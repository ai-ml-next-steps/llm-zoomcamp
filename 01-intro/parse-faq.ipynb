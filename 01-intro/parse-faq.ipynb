{
 "cells": [
  {
   "cell_type": "code",
   "execution_count": 9,
   "id": "4cd1eaa8-3424-41ad-9cf2-3e8548712865",
   "metadata": {},
   "outputs": [],
   "source": [
    "import io\n",
    "\n",
    "import requests\n",
    "import docx"
   ]
  },
  {
   "cell_type": "code",
   "execution_count": 8,
   "id": "b3a75930-458c-4492-9d51-1bb05ecc6893",
   "metadata": {},
   "outputs": [
    {
     "name": "stdout",
     "output_type": "stream",
     "text": [
      "Collecting python-docx\n",
      "  Downloading python_docx-1.1.2-py3-none-any.whl.metadata (2.0 kB)\n",
      "Requirement already satisfied: lxml>=3.1.0 in /Users/manaschaity/Documents/python_venvs/venv_llmzc/lib/python3.12/site-packages (from python-docx) (5.2.2)\n",
      "Requirement already satisfied: typing-extensions>=4.9.0 in /Users/manaschaity/Documents/python_venvs/venv_llmzc/lib/python3.12/site-packages (from python-docx) (4.12.2)\n",
      "Downloading python_docx-1.1.2-py3-none-any.whl (244 kB)\n",
      "\u001b[2K   \u001b[90m━━━━━━━━━━━━━━━━━━━━━━━━━━━━━━━━━━━━━━━━\u001b[0m \u001b[32m244.3/244.3 kB\u001b[0m \u001b[31m1.9 MB/s\u001b[0m eta \u001b[36m0:00:00\u001b[0ma \u001b[36m0:00:01\u001b[0m\n",
      "\u001b[?25hInstalling collected packages: python-docx\n",
      "Successfully installed python-docx-1.1.2\n",
      "\n",
      "\u001b[1m[\u001b[0m\u001b[34;49mnotice\u001b[0m\u001b[1;39;49m]\u001b[0m\u001b[39;49m A new release of pip is available: \u001b[0m\u001b[31;49m24.0\u001b[0m\u001b[39;49m -> \u001b[0m\u001b[32;49m24.1\u001b[0m\n",
      "\u001b[1m[\u001b[0m\u001b[34;49mnotice\u001b[0m\u001b[1;39;49m]\u001b[0m\u001b[39;49m To update, run: \u001b[0m\u001b[32;49mpip install --upgrade pip\u001b[0m\n"
     ]
    }
   ],
   "source": [
    "# !pip uninstall docx -y\n",
    "!pip install python-docx "
   ]
  },
  {
   "cell_type": "code",
   "execution_count": 15,
   "id": "8180e7e4-b90d-4900-a59b-d22e5d6537c4",
   "metadata": {},
   "outputs": [],
   "source": [
    "def clean_line(line):\n",
    "    line = line.strip()\n",
    "    line = line.strip('\\uFEFF')\n",
    "    return line\n",
    "\n",
    "def read_faq(file_id):\n",
    "    url = f'https://docs.google.com/document/d/{file_id}/export?format=docx'\n",
    "    \n",
    "    response = requests.get(url)\n",
    "    response.raise_for_status()\n",
    "    \n",
    "    with io.BytesIO(response.content) as f_in:\n",
    "        doc = docx.Document(f_in)\n",
    "\n",
    "    questions = []\n",
    "\n",
    "    question_heading_style = 'heading 2'\n",
    "    section_heading_style = 'heading 1'\n",
    "    \n",
    "    heading_id = ''\n",
    "    section_title = ''\n",
    "    question_title = ''\n",
    "    answer_text_so_far = ''\n",
    "     \n",
    "    for p in doc.paragraphs:\n",
    "        style = p.style.name.lower()\n",
    "        p_text = clean_line(p.text)\n",
    "    \n",
    "        if len(p_text) == 0:\n",
    "            continue\n",
    "    \n",
    "        if style == section_heading_style:\n",
    "            section_title = p_text\n",
    "            continue\n",
    "    \n",
    "        if style == question_heading_style:\n",
    "            answer_text_so_far = answer_text_so_far.strip()\n",
    "            if answer_text_so_far != '' and section_title != '' and question_title != '':\n",
    "                questions.append({\n",
    "                    'text': answer_text_so_far,\n",
    "                    'section': section_title,\n",
    "                    'question': question_title,\n",
    "                })\n",
    "                answer_text_so_far = ''\n",
    "    \n",
    "            question_title = p_text\n",
    "            continue\n",
    "        \n",
    "        answer_text_so_far += '\\n' + p_text\n",
    "    \n",
    "    answer_text_so_far = answer_text_so_far.strip()\n",
    "    if answer_text_so_far != '' and section_title != '' and question_title != '':\n",
    "        questions.append({\n",
    "            'text': answer_text_so_far,\n",
    "            'section': section_title,\n",
    "            'question': question_title,\n",
    "        })\n",
    "\n",
    "    return questions"
   ]
  },
  {
   "cell_type": "code",
   "execution_count": 25,
   "id": "7d3c2dd7-f64a-4dc7-a4e3-3e8aadfa720f",
   "metadata": {},
   "outputs": [],
   "source": [
    "faq_documents = {\n",
    "    'data-engineering-zoomcamp': '19bnYs80DwuUimHM65UV3sylsCn2j1vziPOwzBwQrebw',\n",
    "    'machine-learning-zoomcamp': '1LpPanc33QJJ6BSsyxVg-pWNMplal84TdZtq10naIhD8',\n",
    "    'mlops-zoomcamp': '12TlBfhIiKtyBv8RnsoJR6F72bkPDGEvPOItJIxaEzE0',\n",
    "}"
   ]
  },
  {
   "cell_type": "code",
   "execution_count": 27,
   "id": "f94efe26-05e8-4ae5-a0fa-0a8e16852816",
   "metadata": {},
   "outputs": [
    {
     "name": "stdout",
     "output_type": "stream",
     "text": [
      "data-engineering-zoomcamp\n",
      "machine-learning-zoomcamp\n",
      "mlops-zoomcamp\n"
     ]
    }
   ],
   "source": [
    "documents = []\n",
    "\n",
    "for course, file_id in faq_documents.items():\n",
    "    print(course)\n",
    "    course_documents = read_faq(file_id)\n",
    "    documents.append({'course': course, 'documents': course_documents})"
   ]
  },
  {
   "cell_type": "code",
   "execution_count": 29,
   "id": "06b8d8be-f656-4cc3-893f-b159be8fda21",
   "metadata": {},
   "outputs": [],
   "source": [
    "import json"
   ]
  },
  {
   "cell_type": "code",
   "execution_count": 32,
   "id": "30d50bc1-8d26-44ee-8734-cafce05e0523",
   "metadata": {},
   "outputs": [],
   "source": [
    "with open('documents.json', 'wt') as f_out:\n",
    "    json.dump(documents, f_out, indent=2)"
   ]
  },
  {
   "cell_type": "code",
   "execution_count": 33,
   "id": "0eabb1c6-5cc6-4d4d-a6da-e27d41cea546",
   "metadata": {},
   "outputs": [
    {
     "name": "stdout",
     "output_type": "stream",
     "text": [
      "[\n",
      "  {\n",
      "    \"course\": \"data-engineering-zoomcamp\",\n",
      "    \"documents\": [\n",
      "      {\n",
      "        \"text\": \"The purpose of this document is to capture frequently asked technical questions\\nThe exact day and hour of the course will be 15th Jan 2024 at 17h00. The course will start with the first  \\u201cOffice Hours'' live.1\\nSubscribe to course public Google Calendar (it works from Desktop only).\\nRegister before the course starts using this link.\\nJoin the course Telegram channel with announcements.\\nDon\\u2019t forget to register in DataTalks.Club's Slack and join the channel.\",\n",
      "        \"section\": \"General course-related questions\",\n",
      "        \"question\": \"Course - When will the course start?\"\n",
      "      },\n",
      "      {\n"
     ]
    }
   ],
   "source": [
    "!head documents.json"
   ]
  },
  {
   "cell_type": "code",
   "execution_count": 10,
   "id": "1b21af5c-2f6d-49e7-92e9-ca229e2473b9",
   "metadata": {},
   "outputs": [],
   "source": [
    "faq_documents = {\n",
    "    'data-engineering-zoomcamp': '19bnYs80DwuUimHM65UV3sylsCn2j1vziPOwzBwQrebw',\n",
    "    # 'machine-learning-zoomcamp': '1LpPanc33QJJ6BSsyxVg-pWNMplal84TdZtq10naIhD8',\n",
    "    # 'mlops-zoomcamp': '12TlBfhIiKtyBv8RnsoJR6F72bkPDGEvPOItJIxaEzE0',\n",
    "}"
   ]
  },
  {
   "cell_type": "code",
   "execution_count": 26,
   "id": "af85d435-db30-4f21-9e95-3c7324b61b52",
   "metadata": {},
   "outputs": [
    {
     "data": {
      "text/plain": [
       "{'data-engineering-zoomcamp': '19bnYs80DwuUimHM65UV3sylsCn2j1vziPOwzBwQrebw'}"
      ]
     },
     "execution_count": 26,
     "metadata": {},
     "output_type": "execute_result"
    }
   ],
   "source": [
    "faq_documents"
   ]
  },
  {
   "cell_type": "code",
   "execution_count": 27,
   "id": "5e6d9e4f-2730-4735-b951-da33583952f4",
   "metadata": {},
   "outputs": [
    {
     "data": {
      "text/plain": [
       "'19bnYs80DwuUimHM65UV3sylsCn2j1vziPOwzBwQrebw'"
      ]
     },
     "execution_count": 27,
     "metadata": {},
     "output_type": "execute_result"
    }
   ],
   "source": [
    "file_id = faq_documents['data-engineering-zoomcamp']\n",
    "file_id"
   ]
  },
  {
   "cell_type": "code",
   "execution_count": 28,
   "id": "f3231af0-3a79-4d90-a797-b43928e045ac",
   "metadata": {},
   "outputs": [],
   "source": [
    "course_document = read_faq(file_id)"
   ]
  },
  {
   "cell_type": "code",
   "execution_count": 30,
   "id": "a99a0652-6b96-4a30-8ae4-4fd4647a48d4",
   "metadata": {},
   "outputs": [
    {
     "data": {
      "text/plain": [
       "437"
      ]
     },
     "execution_count": 30,
     "metadata": {},
     "output_type": "execute_result"
    }
   ],
   "source": [
    "len(course_document)"
   ]
  },
  {
   "cell_type": "code",
   "execution_count": 31,
   "id": "371a2790-461a-4f2a-8725-d6f68d37655e",
   "metadata": {},
   "outputs": [
    {
     "name": "stdout",
     "output_type": "stream",
     "text": [
      "{   'question': 'Course - When will the course start?',\n",
      "    'section': 'General course-related questions',\n",
      "    'text': 'The purpose of this document is to capture frequently asked '\n",
      "            'technical questions\\n'\n",
      "            'The exact day and hour of the course will be 15th Jan 2024 at '\n",
      "            \"17h00. The course will start with the first  “Office Hours'' \"\n",
      "            'live.1\\n'\n",
      "            'Subscribe to course public Google Calendar (it works from Desktop '\n",
      "            'only).\\n'\n",
      "            'Register before the course starts using this link.\\n'\n",
      "            'Join the course Telegram channel with announcements.\\n'\n",
      "            \"Don’t forget to register in DataTalks.Club's Slack and join the \"\n",
      "            'channel.'}\n"
     ]
    }
   ],
   "source": [
    "import pprint \n",
    "pp = pprint.PrettyPrinter(indent=4)\n",
    "pp.pprint(course_document[0])"
   ]
  },
  {
   "cell_type": "code",
   "execution_count": 22,
   "id": "d57ad791-e2f4-4341-863f-bde0cedd84f9",
   "metadata": {},
   "outputs": [
    {
     "name": "stdout",
     "output_type": "stream",
     "text": [
      "Collecting termcolor\n",
      "  Downloading termcolor-2.4.0-py3-none-any.whl.metadata (6.1 kB)\n",
      "Downloading termcolor-2.4.0-py3-none-any.whl (7.7 kB)\n",
      "Installing collected packages: termcolor\n",
      "Successfully installed termcolor-2.4.0\n",
      "\n",
      "\u001b[1m[\u001b[0m\u001b[34;49mnotice\u001b[0m\u001b[1;39;49m]\u001b[0m\u001b[39;49m A new release of pip is available: \u001b[0m\u001b[31;49m24.0\u001b[0m\u001b[39;49m -> \u001b[0m\u001b[32;49m24.1\u001b[0m\n",
      "\u001b[1m[\u001b[0m\u001b[34;49mnotice\u001b[0m\u001b[1;39;49m]\u001b[0m\u001b[39;49m To update, run: \u001b[0m\u001b[32;49mpip install --upgrade pip\u001b[0m\n"
     ]
    }
   ],
   "source": [
    "!pip install termcolor"
   ]
  },
  {
   "cell_type": "code",
   "execution_count": 25,
   "id": "2b4a766d-4081-4c53-baea-613be3987075",
   "metadata": {},
   "outputs": [],
   "source": [
    "import pprint\n",
    "from termcolor import colored\n",
    "\n",
    "def pretty_print_dict(d, indent=0):\n",
    "    for key, value in d.items():\n",
    "        print('  ' * indent + colored(f\"{key}:\", 'red'), end=' ')\n",
    "        if isinstance(value, dict):\n",
    "            print()\n",
    "            pretty_print_dict(value, indent+1)\n",
    "        else:\n",
    "            print(colored(f\"{value}\", 'blue'))\n",
    "\n",
    "# Example dictionary\n",
    "example_dict = {\n",
    "    'name': 'John Doe',\n",
    "    'age': 30,\n",
    "    'address': {\n",
    "        'street': '123 Elm Street',\n",
    "        'city': 'Somewhere',\n",
    "        'state': 'CA'\n",
    "    },\n",
    "    'hobbies': ['reading', 'hiking', 'coding']\n",
    "}\n",
    "\n",
    "# Pretty print the dictionary\n",
    "# pretty_print_dict(example_dict)\n"
   ]
  },
  {
   "cell_type": "code",
   "execution_count": 24,
   "id": "19109793-8ddf-48c1-9917-c7aadd695a03",
   "metadata": {},
   "outputs": [
    {
     "name": "stdout",
     "output_type": "stream",
     "text": [
      "\u001b[31mtext:\u001b[0m \u001b[34mThe purpose of this document is to capture frequently asked technical questions\n",
      "The exact day and hour of the course will be 15th Jan 2024 at 17h00. The course will start with the first  “Office Hours'' live.1\n",
      "Subscribe to course public Google Calendar (it works from Desktop only).\n",
      "Register before the course starts using this link.\n",
      "Join the course Telegram channel with announcements.\n",
      "Don’t forget to register in DataTalks.Club's Slack and join the channel.\u001b[0m\n",
      "\u001b[31msection:\u001b[0m \u001b[34mGeneral course-related questions\u001b[0m\n",
      "\u001b[31mquestion:\u001b[0m \u001b[34mCourse - When will the course start?\u001b[0m\n"
     ]
    }
   ],
   "source": [
    "pretty_print_dict(course_document[0])"
   ]
  },
  {
   "cell_type": "code",
   "execution_count": null,
   "id": "c3ac5ab3-c1d7-4695-9845-af82a6613b39",
   "metadata": {},
   "outputs": [],
   "source": []
  },
  {
   "cell_type": "code",
   "execution_count": null,
   "id": "91c71634-8bc4-44c4-9f49-772c3d51072c",
   "metadata": {},
   "outputs": [],
   "source": []
  }
 ],
 "metadata": {
  "kernelspec": {
   "display_name": "Python 3 (ipykernel)",
   "language": "python",
   "name": "python3"
  },
  "language_info": {
   "codemirror_mode": {
    "name": "ipython",
    "version": 3
   },
   "file_extension": ".py",
   "mimetype": "text/x-python",
   "name": "python",
   "nbconvert_exporter": "python",
   "pygments_lexer": "ipython3",
   "version": "3.12.3"
  }
 },
 "nbformat": 4,
 "nbformat_minor": 5
}
