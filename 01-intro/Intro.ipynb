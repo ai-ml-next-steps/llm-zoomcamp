{
 "cells": [
  {
   "cell_type": "markdown",
   "id": "3cb7e437-27f9-40b8-8103-1ce84843dbde",
   "metadata": {},
   "source": [
    "<center><h1>LLM Zoomcamp 1.2 - Configuring Your Environment</h1></center>\n",
    "<center>Date: Jun 23, 2024</center>"
   ]
  },
  {
   "cell_type": "code",
   "execution_count": 2,
   "id": "2a7b1bfd-dfbe-4628-a0c1-dafef1a924b1",
   "metadata": {},
   "outputs": [
    {
     "name": "stdout",
     "output_type": "stream",
     "text": [
      "The history saving thread hit an unexpected error (OperationalError('attempt to write a readonly database')).History will not be written to the database.\n"
     ]
    }
   ],
   "source": [
    "from openai import OpenAI"
   ]
  },
  {
   "cell_type": "code",
   "execution_count": 3,
   "id": "a3f56591-6427-46bd-a73f-0b8fcea0f206",
   "metadata": {},
   "outputs": [],
   "source": [
    "import os"
   ]
  },
  {
   "cell_type": "code",
   "execution_count": 14,
   "id": "a561c425-61bc-40f0-86dd-a116df6f95c8",
   "metadata": {},
   "outputs": [],
   "source": [
    "client = OpenAI(api_key=os.environ['OPENAI_API_KEY'])"
   ]
  },
  {
   "cell_type": "code",
   "execution_count": 16,
   "id": "93d19090-e78b-4975-9473-6aa8c7471368",
   "metadata": {},
   "outputs": [],
   "source": [
    "# response = client.chat.completions.create(\n",
    "#     model='gpt-3.5-turbo',\n",
    "#     messages=[{\"role\": \"user\", \"content\": \"is it too late to become a master in LLM ?\"}]\n",
    "# )"
   ]
  },
  {
   "cell_type": "markdown",
   "id": "17d3ac3d-c3b1-457f-be5d-1adb41fb4a3b",
   "metadata": {},
   "source": [
    "### Use Ollama "
   ]
  },
  {
   "cell_type": "code",
   "execution_count": 19,
   "id": "2ce1f506-0767-474e-968b-994862c65be9",
   "metadata": {},
   "outputs": [],
   "source": [
    "# !pip install ollama"
   ]
  },
  {
   "cell_type": "code",
   "execution_count": 20,
   "id": "60435b64-8b6c-43ed-99cf-c758b8cf966e",
   "metadata": {},
   "outputs": [
    {
     "name": "stdout",
     "output_type": "stream",
     "text": [
      "A classic question!\n",
      "\n",
      "The sky appears blue because of a phenomenon called scattering, which occurs when sunlight interacts with tiny molecules of gases in the Earth's atmosphere.\n",
      "\n",
      "Here's what happens:\n",
      "\n",
      "1. **Sunlight enters the Earth's atmosphere**: When the sun emits light, it's mostly white and includes all colors of the visible spectrum.\n",
      "2. **Atmospheric gases scatter shorter wavelengths**: As sunlight travels through the atmosphere, it encounters tiny molecules of gases like nitrogen (N2) and oxygen (O2). These molecules are much smaller than the wavelength of light. When a photon (light particle) hits one of these molecules, it scatters in all directions.\n",
      "3. **Shorter wavelengths are scattered more**: The scattering effect is more pronounced for shorter wavelengths, like blue and violet light. This is because the molecular size is comparable to the wavelength of these colors, allowing them to scatter more efficiently.\n",
      "4. **Longer wavelengths continue straight**: On the other hand, longer wavelengths like red and orange light have a larger wavelength compared to the molecular size. As a result, they tend to pass through the atmosphere with minimal scattering.\n",
      "5. **Our eyes perceive the scattered blue light**: When we look at the sky, our eyes see the combined effect of all the scattered light. Since shorter wavelengths (like blue) are scattered more, they dominate our perception, making the sky appear blue.\n",
      "\n",
      "Other factors can influence the apparent color of the sky:\n",
      "\n",
      "* **Dust and water vapor**: Tiny particles in the air can scatter light, too. This is why sunsets often have a reddish hue due to the scattering of longer wavelengths by aerosols.\n",
      "* **Atmospheric conditions**: The color of the sky can change depending on pollution levels, humidity, and other environmental factors.\n",
      "\n",
      "So, to summarize: the sky appears blue because of the scattering of shorter wavelengths (like blue light) by tiny molecules in the Earth's atmosphere!\n",
      "\n",
      "Would you like to know more about this topic or explore related questions?\n"
     ]
    }
   ],
   "source": [
    "import ollama\n",
    "response = ollama.chat(model='llama3', messages=[\n",
    "  {\n",
    "    'role': 'user',\n",
    "    'content': 'Why is the sky blue?',\n",
    "  },\n",
    "])\n",
    "print(response['message']['content'])"
   ]
  },
  {
   "cell_type": "code",
   "execution_count": null,
   "id": "4be7b3ef-099f-4636-b894-668921ed24a2",
   "metadata": {},
   "outputs": [],
   "source": []
  }
 ],
 "metadata": {
  "kernelspec": {
   "display_name": "venv_llmzc",
   "language": "python",
   "name": "venv_llmzc"
  },
  "language_info": {
   "codemirror_mode": {
    "name": "ipython",
    "version": 3
   },
   "file_extension": ".py",
   "mimetype": "text/x-python",
   "name": "python",
   "nbconvert_exporter": "python",
   "pygments_lexer": "ipython3",
   "version": "3.12.3"
  }
 },
 "nbformat": 4,
 "nbformat_minor": 5
}
