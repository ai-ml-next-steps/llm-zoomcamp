{
 "cells": [
  {
   "cell_type": "markdown",
   "metadata": {},
   "source": [
    "<h1><center>03-vector-search assignment</center></h1>"
   ]
  },
  {
   "cell_type": "markdown",
   "metadata": {},
   "source": [
    "#### Architecture - Semantic Search using Elastic Search"
   ]
  },
  {
   "attachments": {
    "image.png": {
     "image/png": "[encoded data removed]"
    }
   },
   "cell_type": "markdown",
   "metadata": {},
   "source": [
    "\n",
    "![image.png](attachment:image.png)"
   ]
  },
  {
   "cell_type": "markdown",
   "metadata": {},
   "source": [
    "* Two very important concepts in Elasticsearch are documents and indexes.\n",
    "\n",
    "* A document is collection of fields with their associated values. \n",
    "\n",
    "* To work with Elasticsearch you have to organize your data into documents, and then add all your documents to an index. \n",
    "\n",
    "* Index as a collection of documents that is stored in a highly optimized format designed to perform efficient searches."
   ]
  },
  {
   "cell_type": "markdown",
   "metadata": {},
   "source": [
    "<!-- #### Step 1: Prepare documents -->"
   ]
  },
  {
   "cell_type": "code",
   "execution_count": 15,
   "metadata": {},
   "outputs": [],
   "source": [
    "# import json\n",
    "\n",
    "# with open('documents.json', 'rt') as f_in:\n",
    "#     docs_raw = json.load(f_in)"
   ]
  },
  {
   "cell_type": "code",
   "execution_count": 16,
   "metadata": {},
   "outputs": [],
   "source": [
    "# documents = []\n",
    "\n",
    "# for course_dict in docs_raw:\n",
    "#     for doc in course_dict['documents']:\n",
    "#         doc['course'] = course_dict['course']\n",
    "#         documents.append(doc)\n",
    "\n",
    "# documents[1]"
   ]
  },
  {
   "cell_type": "markdown",
   "metadata": {},
   "source": [
    "#### Step Q1. Getting the embeddings model"
   ]
  },
  {
   "cell_type": "markdown",
   "metadata": {},
   "source": [
    "Sentence Transformers documentation here: https://www.sbert.net/docs/sentence_transformer/pretrained_models.html"
   ]
  },
  {
   "cell_type": "code",
   "execution_count": 3,
   "metadata": {},
   "outputs": [
    {
     "name": "stderr",
     "output_type": "stream",
     "text": [
      "/Users/manaschaity/Documents/python_venvs/venv_llmzc/lib/python3.12/site-packages/tqdm/auto.py:21: TqdmWarning: IProgress not found. Please update jupyter and ipywidgets. See https://ipywidgets.readthedocs.io/en/stable/user_install.html\n",
      "  from .autonotebook import tqdm as notebook_tqdm\n"
     ]
    }
   ],
   "source": [
    "# This is a new library compared to the previous modules. \n",
    "# Please perform \"pip install sentence_transformers==2.7.0\"\n",
    "from sentence_transformers import SentenceTransformer\n",
    "\n",
    "# if you get an error do the following:\n",
    "# 1. Uninstall numpy \n",
    "# 2. Uninstall torch\n",
    "# 3. pip install numpy==1.26.4\n",
    "# 4. pip install torch\n",
    "# run the above cell, it should work\n",
    "# model = SentenceTransformer(\"all-mpnet-base-v2\")\n",
    "model = SentenceTransformer(\"multi-qa-distilbert-cos-v1\")"
   ]
  },
  {
   "cell_type": "code",
   "execution_count": 5,
   "metadata": {},
   "outputs": [
    {
     "data": {
      "text/plain": [
       "SentenceTransformer(\n",
       "  (0): Transformer({'max_seq_length': 512, 'do_lower_case': False}) with Transformer model: DistilBertModel \n",
       "  (1): Pooling({'word_embedding_dimension': 768, 'pooling_mode_cls_token': False, 'pooling_mode_mean_tokens': True, 'pooling_mode_max_tokens': False, 'pooling_mode_mean_sqrt_len_tokens': False, 'pooling_mode_weightedmean_tokens': False, 'pooling_mode_lasttoken': False, 'include_prompt': True})\n",
       "  (2): Normalize()\n",
       ")"
      ]
     },
     "execution_count": 5,
     "metadata": {},
     "output_type": "execute_result"
    }
   ],
   "source": [
    "model"
   ]
  },
  {
   "cell_type": "code",
   "execution_count": 7,
   "metadata": {},
   "outputs": [],
   "source": [
    "# len(model.encode(\"This is a simple sentence\"))\n",
    "user_question = \"I just discovered the course. Can I still join it?\"\n",
    "embedding_ex = model.encode(user_question)"
   ]
  },
  {
   "cell_type": "code",
   "execution_count": 18,
   "metadata": {},
   "outputs": [
    {
     "name": "stdout",
     "output_type": "stream",
     "text": [
      "Answer: 0.07800000160932541\n"
     ]
    }
   ],
   "source": [
    "print(f\"Answer: {round(embedding_ex[:1][0],3)}\")"
   ]
  },
  {
   "cell_type": "markdown",
   "metadata": {},
   "source": [
    "#### Prepare the documents"
   ]
  },
  {
   "cell_type": "code",
   "execution_count": 24,
   "metadata": {},
   "outputs": [
    {
     "data": {
      "text/plain": [
       "948"
      ]
     },
     "execution_count": 24,
     "metadata": {},
     "output_type": "execute_result"
    }
   ],
   "source": [
    "import requests \n",
    "\n",
    "base_url = 'https://github.com/DataTalksClub/llm-zoomcamp/blob/main'\n",
    "relative_url = '03-vector-search/eval/documents-with-ids.json'\n",
    "docs_url = f'{base_url}/{relative_url}?raw=1'\n",
    "docs_response = requests.get(docs_url)\n",
    "documents = docs_response.json()\n",
    "len(documents)"
   ]
  },
  {
   "cell_type": "code",
   "execution_count": 25,
   "metadata": {},
   "outputs": [
    {
     "data": {
      "text/plain": [
       "{'text': \"The purpose of this document is to capture frequently asked technical questions\\nThe exact day and hour of the course will be 15th Jan 2024 at 17h00. The course will start with the first  “Office Hours'' live.1\\nSubscribe to course public Google Calendar (it works from Desktop only).\\nRegister before the course starts using this link.\\nJoin the course Telegram channel with announcements.\\nDon’t forget to register in DataTalks.Club's Slack and join the channel.\",\n",
       " 'section': 'General course-related questions',\n",
       " 'question': 'Course - When will the course start?',\n",
       " 'course': 'data-engineering-zoomcamp',\n",
       " 'id': 'c02e79ef'}"
      ]
     },
     "execution_count": 25,
     "metadata": {},
     "output_type": "execute_result"
    }
   ],
   "source": [
    "documents[0]"
   ]
  },
  {
   "cell_type": "code",
   "execution_count": 32,
   "metadata": {},
   "outputs": [
    {
     "name": "stdout",
     "output_type": "stream",
     "text": [
      "375\n"
     ]
    }
   ],
   "source": [
    "# We will use only a subset of the questions - the questions for \"machine-learning-zoomcamp\". \n",
    "# After filtering, you should have only 375 documents\n",
    "filtered_docs = filter(lambda x: x['course'] == 'machine-learning-zoomcamp', documents)\n",
    "\n",
    "filtered_docs = list(filtered_docs)\n",
    "print(len(filtered_docs))"
   ]
  },
  {
   "cell_type": "markdown",
   "metadata": {},
   "source": [
    "#### Q2. Creating the embeddings\n",
    "Now for each document, we will create an embedding for both question and answer fields.\n",
    "\n",
    "We want to put all of them into a single matrix X:\n",
    "\n",
    "- Create a list embeddings\n",
    "- Iterate over each document\n",
    "- qa_text = f'{question} {text}'\n",
    "- compute the embedding for qa_text, append to embeddings\n",
    "- At the end, let X = np.array(embeddings) (import numpy as np)\n",
    "\n",
    "What's the shape of X? (X.shape). Include the parantheses."
   ]
  },
  {
   "cell_type": "code",
   "execution_count": 36,
   "metadata": {},
   "outputs": [
    {
     "data": {
      "text/plain": [
       "{'text': \"The purpose of this document is to capture frequently asked technical questions\\nThe exact day and hour of the course will be 15th Jan 2024 at 17h00. The course will start with the first  “Office Hours'' live.1\\nSubscribe to course public Google Calendar (it works from Desktop only).\\nRegister before the course starts using this link.\\nJoin the course Telegram channel with announcements.\\nDon’t forget to register in DataTalks.Club's Slack and join the channel.\",\n",
       " 'section': 'General course-related questions',\n",
       " 'question': 'Course - When will the course start?',\n",
       " 'course': 'data-engineering-zoomcamp',\n",
       " 'id': 'c02e79ef'}"
      ]
     },
     "execution_count": 36,
     "metadata": {},
     "output_type": "execute_result"
    }
   ],
   "source": [
    "documents[0]"
   ]
  },
  {
   "cell_type": "code",
   "execution_count": 35,
   "metadata": {},
   "outputs": [
    {
     "name": "stdout",
     "output_type": "stream",
     "text": [
      "Course - When will the course start? The purpose of this document is to capture frequently asked technical questions\n",
      "The exact day and hour of the course will be 15th Jan 2024 at 17h00. The course will start with the first  “Office Hours'' live.1\n",
      "Subscribe to course public Google Calendar (it works from Desktop only).\n",
      "Register before the course starts using this link.\n",
      "Join the course Telegram channel with announcements.\n",
      "Don’t forget to register in DataTalks.Club's Slack and join the channel.\n"
     ]
    }
   ],
   "source": [
    "doc = documents[0]\n",
    "qa_text = f'{doc['question']} {doc['text']}'\n",
    "print(qa_text)"
   ]
  },
  {
   "cell_type": "code",
   "execution_count": 39,
   "metadata": {},
   "outputs": [
    {
     "name": "stderr",
     "output_type": "stream",
     "text": [
      "100%|█████████████████████████████████████████████████████████████████████████████████████████████████████████████| 375/375 [00:06<00:00, 58.80it/s]"
     ]
    },
    {
     "name": "stdout",
     "output_type": "stream",
     "text": [
      "Shape of X: (375, 768)\n"
     ]
    },
    {
     "name": "stderr",
     "output_type": "stream",
     "text": [
      "\n"
     ]
    }
   ],
   "source": [
    "#created the dense vector using the pre-trained model\n",
    "# operations = []\n",
    "# for doc in documents:\n",
    "#     # Transforming the title into an embedding using the model\n",
    "#     doc[\"text_vector\"] = model.encode(doc[\"text\"]).tolist()\n",
    "#     operations.append(doc)\n",
    "\n",
    "import numpy as np\n",
    "from tqdm import tqdm\n",
    "\n",
    "embeddings = []\n",
    "for doc in tqdm(filtered_docs):\n",
    "    qa_text = f'{doc['question']} {doc['text']}'\n",
    "    # Transforming the title into an embedding using the model\n",
    "    embedding_qa_text = model.encode(qa_text).tolist()\n",
    "    embeddings.append(embedding_qa_text)\n",
    "\n",
    "X = np.array(embeddings)\n",
    "print(f\"Shape of X: {X.shape}\")"
   ]
  },
  {
   "cell_type": "code",
   "execution_count": 72,
   "metadata": {},
   "outputs": [
    {
     "data": {
      "text/plain": [
       "375"
      ]
     },
     "execution_count": 72,
     "metadata": {},
     "output_type": "execute_result"
    }
   ],
   "source": [
    "len(embeddings)"
   ]
  },
  {
   "cell_type": "markdown",
   "metadata": {},
   "source": [
    "#### Q3. Search\n",
    "\n",
    "We have the embeddings and the query vector. Now let's compute the cosine similarity between the vector from Q1 (let's call it v) and the matrix from Q2.\n",
    "\n",
    "The vectors returned from the embedding model are already normalized (you can check it by computing a dot product of a vector with itself - it should return something very close to 1.0). This means that in order to compute the coside similarity, it's sufficient to multiply the matrix X by the vector v:\n",
    "\n",
    "```scores = X.dot(v)```"
   ]
  },
  {
   "cell_type": "code",
   "execution_count": 42,
   "metadata": {},
   "outputs": [
    {
     "data": {
      "text/plain": [
       "(768,)"
      ]
     },
     "execution_count": 42,
     "metadata": {},
     "output_type": "execute_result"
    }
   ],
   "source": [
    "user_question = \"I just discovered the course. Can I still join it?\"\n",
    "v = model.encode(user_question)\n",
    "v.shape"
   ]
  },
  {
   "cell_type": "code",
   "execution_count": 43,
   "metadata": {},
   "outputs": [],
   "source": [
    "scores = X.dot(v)"
   ]
  },
  {
   "cell_type": "code",
   "execution_count": 48,
   "metadata": {},
   "outputs": [
    {
     "data": {
      "text/plain": [
       "array([0.28921745, 0.43505096, 0.22057271, 0.12808593, 0.32875459,\n",
       "       0.45899988, 0.44893111, 0.27017071, 0.21397506, 0.3397457 ,\n",
       "       0.16333919, 0.31591803, 0.01536206, 0.41424065, 0.65065732,\n",
       "       0.41278664, 0.20239046])"
      ]
     },
     "execution_count": 48,
     "metadata": {},
     "output_type": "execute_result"
    }
   ],
   "source": [
    "scores[:17]"
   ]
  },
  {
   "cell_type": "code",
   "execution_count": 46,
   "metadata": {},
   "outputs": [
    {
     "data": {
      "text/plain": [
       "14"
      ]
     },
     "execution_count": 46,
     "metadata": {},
     "output_type": "execute_result"
    }
   ],
   "source": [
    "max_score = max(scores)\n",
    "max_element_index = list(scores).index(max_score)\n",
    "max_element_index"
   ]
  },
  {
   "cell_type": "code",
   "execution_count": 49,
   "metadata": {},
   "outputs": [
    {
     "data": {
      "text/plain": [
       "0.6506573213072671"
      ]
     },
     "execution_count": 49,
     "metadata": {},
     "output_type": "execute_result"
    }
   ],
   "source": [
    "scores[14]"
   ]
  },
  {
   "cell_type": "code",
   "execution_count": 50,
   "metadata": {},
   "outputs": [
    {
     "data": {
      "text/plain": [
       "{'text': 'Yes, you can. You won’t be able to submit some of the homeworks, but you can still take part in the course.\\nIn order to get a certificate, you need to submit 2 out of 3 course projects and review 3 peers’ Projects by the deadline. It means that if you join the course at the end of November and manage to work on two projects, you will still be eligible for a certificate.',\n",
       " 'section': 'General course-related questions',\n",
       " 'question': 'The course has already started. Can I still join it?',\n",
       " 'course': 'machine-learning-zoomcamp',\n",
       " 'id': 'ee58a693'}"
      ]
     },
     "execution_count": 50,
     "metadata": {},
     "output_type": "execute_result"
    }
   ],
   "source": [
    "filtered_docs[14]"
   ]
  },
  {
   "cell_type": "markdown",
   "metadata": {},
   "source": [
    "#### Vector search"
   ]
  },
  {
   "cell_type": "code",
   "execution_count": 54,
   "metadata": {},
   "outputs": [
    {
     "data": {
      "text/plain": [
       "[{'text': 'Yes, you can. You won’t be able to submit some of the homeworks, but you can still take part in the course.\\nIn order to get a certificate, you need to submit 2 out of 3 course projects and review 3 peers’ Projects by the deadline. It means that if you join the course at the end of November and manage to work on two projects, you will still be eligible for a certificate.',\n",
       "  'section': 'General course-related questions',\n",
       "  'question': 'The course has already started. Can I still join it?',\n",
       "  'course': 'machine-learning-zoomcamp',\n",
       "  'id': 'ee58a693'},\n",
       " {'text': 'Welcome to the course! Go to the course page (http://mlzoomcamp.com/), scroll down and start going through the course materials. Then read everything in the cohort folder for your cohort’s year.\\nClick on the links and start watching the videos. Also watch office hours from previous cohorts. Go to DTC youtube channel and click on Playlists and search for {course yyyy}. ML Zoomcamp was first launched in 2021.\\nOr you can just use this link: http://mlzoomcamp.com/#syllabus',\n",
       "  'section': 'General course-related questions',\n",
       "  'question': 'I just joined. What should I do next? How can I access course materials?',\n",
       "  'course': 'machine-learning-zoomcamp',\n",
       "  'id': '0a278fb2'},\n",
       " {'text': \"The process is automated now, so you should receive the email eventually. If you haven’t, check your promotions tab in Gmail as well as spam.\\nIf you unsubscribed from our newsletter, you won't get course related updates too.\\nBut don't worry, it’s not a problem. To make sure you don’t miss anything, join the #course-ml-zoomcamp channel in Slack and our telegram channel with announcements. This is enough to follow the course.\",\n",
       "  'section': 'General course-related questions',\n",
       "  'question': \"I filled the form, but haven't received a confirmation email. Is it normal?\",\n",
       "  'course': 'machine-learning-zoomcamp',\n",
       "  'id': '6ba259b1'},\n",
       " {'text': 'Technically, yes. Advisable? Not really. Reasons:\\nSome homework(s) asks for specific python library versions.\\nAnswers may not match in MCQ options if using different languages other than Python 3.10 (the recommended version for 2023 cohort)\\nAnd as for midterms/capstones, your peer-reviewers may not know these other languages. Do you want to be penalized for others not knowing these other languages?\\nYou can create a separate repo using course’s lessons but written in other languages for your own learnings, but not advisable for submissions.\\ntx[source]',\n",
       "  'section': 'Miscellaneous',\n",
       "  'question': 'Can I do the course in other languages, like R or Scala?',\n",
       "  'course': 'machine-learning-zoomcamp',\n",
       "  'id': '9f261648'},\n",
       " {'text': 'We won’t re-record the course videos. The focus of the course and the skills we want to teach remained the same, and the videos are still up-to-date.\\nIf you haven’t taken part in the previous iteration, you can start watching the videos. It’ll be useful for you and you will learn new things. However, we recommend using Python 3.10 now instead of Python 3.8.',\n",
       "  'section': 'General course-related questions',\n",
       "  'question': 'The course videos are from the previous iteration. Will you release new ones or we’ll use the videos from 2021?',\n",
       "  'course': 'machine-learning-zoomcamp',\n",
       "  'id': 'e7ba6b8a'}]"
      ]
     },
     "execution_count": 54,
     "metadata": {},
     "output_type": "execute_result"
    }
   ],
   "source": [
    "class VectorSearchEngine():\n",
    "    def __init__(self, documents, embeddings):\n",
    "        self.documents = documents\n",
    "        self.embeddings = embeddings\n",
    "\n",
    "    def search(self, v_query, num_results=10):\n",
    "        scores = self.embeddings.dot(v_query)\n",
    "        idx = np.argsort(-scores)[:num_results]\n",
    "        return [self.documents[i] for i in idx]\n",
    "\n",
    "search_engine = VectorSearchEngine(documents=filtered_docs, embeddings=X)\n",
    "search_engine.search(v, num_results=5)"
   ]
  },
  {
   "cell_type": "markdown",
   "metadata": {},
   "source": [
    "#### Q4. Hit-rate for our search engine"
   ]
  },
  {
   "cell_type": "code",
   "execution_count": 55,
   "metadata": {},
   "outputs": [],
   "source": [
    "import pandas as pd\n",
    "\n",
    "base_url = 'https://github.com/DataTalksClub/llm-zoomcamp/blob/main'\n",
    "relative_url = '03-vector-search/eval/ground-truth-data.csv'\n",
    "ground_truth_url = f'{base_url}/{relative_url}?raw=1'\n",
    "\n",
    "df_ground_truth = pd.read_csv(ground_truth_url)\n",
    "df_ground_truth = df_ground_truth[df_ground_truth.course == 'machine-learning-zoomcamp']\n",
    "ground_truth = df_ground_truth.to_dict(orient='records')"
   ]
  },
  {
   "cell_type": "code",
   "execution_count": 59,
   "metadata": {},
   "outputs": [
    {
     "data": {
      "text/plain": [
       "[{'question': 'Where can I sign up for the course?',\n",
       "  'course': 'machine-learning-zoomcamp',\n",
       "  'document': '0227b872'},\n",
       " {'question': 'Can you provide a link to sign up?',\n",
       "  'course': 'machine-learning-zoomcamp',\n",
       "  'document': '0227b872'},\n",
       " {'question': 'Is there an FAQ for this Machine Learning course?',\n",
       "  'course': 'machine-learning-zoomcamp',\n",
       "  'document': '0227b872'},\n",
       " {'question': 'Does this course have a GitHub repository for the sign-up link?',\n",
       "  'course': 'machine-learning-zoomcamp',\n",
       "  'document': '0227b872'},\n",
       " {'question': 'How can I structure my questions and answers for the course?',\n",
       "  'course': 'machine-learning-zoomcamp',\n",
       "  'document': '0227b872'},\n",
       " {'question': 'Are the course videos live or pre-recorded?',\n",
       "  'course': 'machine-learning-zoomcamp',\n",
       "  'document': '39fda9f0'}]"
      ]
     },
     "execution_count": 59,
     "metadata": {},
     "output_type": "execute_result"
    }
   ],
   "source": [
    "ground_truth[:6]"
   ]
  },
  {
   "cell_type": "code",
   "execution_count": 56,
   "metadata": {},
   "outputs": [
    {
     "data": {
      "text/plain": [
       "1830"
      ]
     },
     "execution_count": 56,
     "metadata": {},
     "output_type": "execute_result"
    }
   ],
   "source": [
    "len(ground_truth)"
   ]
  },
  {
   "cell_type": "code",
   "execution_count": 62,
   "metadata": {},
   "outputs": [
    {
     "name": "stderr",
     "output_type": "stream",
     "text": [
      "100%|███████████████████████████████████████████████████████████████████████████████████████████████████████████| 1830/1830 [00:48<00:00, 38.08it/s]\n"
     ]
    }
   ],
   "source": [
    "search_engine = VectorSearchEngine(documents=filtered_docs, embeddings=X)\n",
    "# search_engine.search(v, num_results=5)\n",
    "\n",
    "relevance_total = []\n",
    "\n",
    "for q in tqdm(ground_truth):\n",
    "    doc_id = q['document']\n",
    "\n",
    "    v = model.encode(q['question'])\n",
    "    # results = elastic_search(query=q['question'], course=q['course'])\n",
    "    results = search_engine.search(v, num_results=5)\n",
    "    relevance = [d['id'] == doc_id for d in results]\n",
    "    relevance_total.append(relevance)"
   ]
  },
  {
   "cell_type": "code",
   "execution_count": 63,
   "metadata": {},
   "outputs": [
    {
     "data": {
      "text/plain": [
       "1830"
      ]
     },
     "execution_count": 63,
     "metadata": {},
     "output_type": "execute_result"
    }
   ],
   "source": [
    "len(relevance_total)"
   ]
  },
  {
   "cell_type": "code",
   "execution_count": 64,
   "metadata": {},
   "outputs": [
    {
     "data": {
      "text/plain": [
       "[[False, False, False, False, False],\n",
       " [True, False, False, False, False],\n",
       " [True, False, False, False, False],\n",
       " [False, False, False, False, False],\n",
       " [False, False, False, True, False]]"
      ]
     },
     "execution_count": 64,
     "metadata": {},
     "output_type": "execute_result"
    }
   ],
   "source": [
    "relevance_total[:5]"
   ]
  },
  {
   "cell_type": "code",
   "execution_count": 65,
   "metadata": {},
   "outputs": [],
   "source": [
    "def hit_rate(relevance_total):\n",
    "    cnt = 0\n",
    "\n",
    "    for line in relevance_total:\n",
    "        if True in line:\n",
    "            cnt = cnt + 1\n",
    "\n",
    "    return cnt / len(relevance_total)"
   ]
  },
  {
   "cell_type": "code",
   "execution_count": 66,
   "metadata": {},
   "outputs": [
    {
     "data": {
      "text/plain": [
       "0.9398907103825137"
      ]
     },
     "execution_count": 66,
     "metadata": {},
     "output_type": "execute_result"
    }
   ],
   "source": [
    "hit_rate(relevance_total)"
   ]
  },
  {
   "cell_type": "markdown",
   "metadata": {},
   "source": [
    "#### Q5. Indexing with Elasticsearch"
   ]
  },
  {
   "cell_type": "code",
   "execution_count": 67,
   "metadata": {},
   "outputs": [
    {
     "data": {
      "text/plain": [
       "ObjectApiResponse({'name': '6a05a85ee7e1', 'cluster_name': 'docker-cluster', 'cluster_uuid': 'Hb1gKnXpSrS_2IVhkuUdvA', 'version': {'number': '8.4.3', 'build_flavor': 'default', 'build_type': 'docker', 'build_hash': '42f05b9372a9a4a470db3b52817899b99a76ee73', 'build_date': '2022-10-04T07:17:24.662462378Z', 'build_snapshot': False, 'lucene_version': '9.3.0', 'minimum_wire_compatibility_version': '7.17.0', 'minimum_index_compatibility_version': '7.0.0'}, 'tagline': 'You Know, for Search'})"
      ]
     },
     "execution_count": 67,
     "metadata": {},
     "output_type": "execute_result"
    }
   ],
   "source": [
    "from elasticsearch import Elasticsearch\n",
    "es_client = Elasticsearch('http://localhost:9200') \n",
    "\n",
    "es_client.info()"
   ]
  },
  {
   "cell_type": "markdown",
   "metadata": {},
   "source": [
    "#### Step 4: Create Mappings and Index"
   ]
  },
  {
   "cell_type": "markdown",
   "metadata": {},
   "source": [
    "* Mapping is the process of defining how a document, and the fields it contains, are stored and indexed.\n",
    "\n",
    "* Each document is a collection of fields, which each have their own data type.\n",
    "\n",
    "* We can compare mapping to a database schema in how it describes the fields and properties that documents hold, the datatype of each field (e.g., string, integer, or date), and how those fields should be indexed and stored \n",
    "\n"
   ]
  },
  {
   "cell_type": "code",
   "execution_count": 68,
   "metadata": {},
   "outputs": [
    {
     "data": {
      "text/plain": [
       "768"
      ]
     },
     "execution_count": 68,
     "metadata": {},
     "output_type": "execute_result"
    }
   ],
   "source": [
    "len(v)"
   ]
  },
  {
   "cell_type": "code",
   "execution_count": 74,
   "metadata": {},
   "outputs": [
    {
     "data": {
      "text/plain": [
       "{'text': \"The purpose of this document is to capture frequently asked technical questions\\nThe exact day and hour of the course will be 15th Jan 2024 at 17h00. The course will start with the first  “Office Hours'' live.1\\nSubscribe to course public Google Calendar (it works from Desktop only).\\nRegister before the course starts using this link.\\nJoin the course Telegram channel with announcements.\\nDon’t forget to register in DataTalks.Club's Slack and join the channel.\",\n",
       " 'section': 'General course-related questions',\n",
       " 'question': 'Course - When will the course start?',\n",
       " 'course': 'data-engineering-zoomcamp',\n",
       " 'id': 'c02e79ef'}"
      ]
     },
     "execution_count": 74,
     "metadata": {},
     "output_type": "execute_result"
    }
   ],
   "source": [
    "documents[0]"
   ]
  },
  {
   "cell_type": "code",
   "execution_count": 90,
   "metadata": {},
   "outputs": [],
   "source": [
    "index_settings = {\n",
    "    \"settings\": {\n",
    "        \"number_of_shards\": 1,\n",
    "        \"number_of_replicas\": 0\n",
    "    },\n",
    "    \"mappings\": {\n",
    "        \"properties\": {\n",
    "            \"text\": {\"type\": \"text\"},\n",
    "            \"section\": {\"type\": \"text\"},\n",
    "            \"question\": {\"type\": \"text\"},\n",
    "            \"course\": {\"type\": \"keyword\"} ,\n",
    "            \"id\": {\"type\": \"text\"},\n",
    "            \"text_vector\": {\"type\": \"dense_vector\", \"dims\": 768, \"index\": True, \"similarity\": \"cosine\"},\n",
    "        }\n",
    "    }\n",
    "}"
   ]
  },
  {
   "cell_type": "code",
   "execution_count": 91,
   "metadata": {},
   "outputs": [
    {
     "data": {
      "text/plain": [
       "ObjectApiResponse({'acknowledged': True, 'shards_acknowledged': True, 'index': 'hw3-index'})"
      ]
     },
     "execution_count": 91,
     "metadata": {},
     "output_type": "execute_result"
    }
   ],
   "source": [
    "index_name = \"hw3-index\"\n",
    "\n",
    "es_client.indices.delete(index=index_name, ignore_unavailable=True)\n",
    "es_client.indices.create(index=index_name, body=index_settings)"
   ]
  },
  {
   "cell_type": "markdown",
   "metadata": {},
   "source": [
    "#### Step 5: Add documents into index"
   ]
  },
  {
   "cell_type": "code",
   "execution_count": 92,
   "metadata": {},
   "outputs": [
    {
     "name": "stderr",
     "output_type": "stream",
     "text": [
      "100%|█████████████████████████████████████████████████████████████████████████████████████████████████████████████| 375/375 [00:04<00:00, 92.21it/s]\n"
     ]
    }
   ],
   "source": [
    "operations = []\n",
    "for doc in tqdm(filtered_docs):\n",
    "    qa_text = f'{doc['question']} {doc['text']}'\n",
    "    # Transforming the title into an embedding using the model\n",
    "    embedding_qa_text = model.encode(qa_text).tolist()\n",
    "    doc[\"text_vector\"] = embedding_qa_text\n",
    "    operations.append(doc)"
   ]
  },
  {
   "cell_type": "code",
   "execution_count": 93,
   "metadata": {},
   "outputs": [
    {
     "data": {
      "text/plain": [
       "375"
      ]
     },
     "execution_count": 93,
     "metadata": {},
     "output_type": "execute_result"
    }
   ],
   "source": [
    "len(operations)"
   ]
  },
  {
   "cell_type": "code",
   "execution_count": 94,
   "metadata": {},
   "outputs": [
    {
     "data": {
      "text/plain": [
       "{'text': 'Machine Learning Zoomcamp FAQ\\nThe purpose of this document is to capture frequently asked technical questions.\\nWe did this for our data engineering course and it worked quite well. Check this document for inspiration on how to structure your questions and answers:\\nData Engineering Zoomcamp FAQ\\nIn the course GitHub repository there’s a link. Here it is: https://airtable.com/shryxwLd0COOEaqXo\\nwork',\n",
       " 'section': 'General course-related questions',\n",
       " 'question': 'How do I sign up?',\n",
       " 'course': 'machine-learning-zoomcamp',\n",
       " 'id': '0227b872',\n",
       " 'text_vector': [0.08805913478136063,\n",
       "  0.015593641437590122,\n",
       "  0.07925575226545334,\n",
       "  0.025275785475969315,\n",
       "  0.07557642459869385,\n",
       "  -0.03905966505408287,\n",
       "  -0.04138130322098732,\n",
       "  0.025291703641414642,\n",
       "  0.024324173107743263,\n",
       "  0.003625940764322877,\n",
       "  -0.007282888051122427,\n",
       "  -0.03287505730986595,\n",
       "  0.06129566952586174,\n",
       "  -0.057110078632831573,\n",
       "  0.011677452363073826,\n",
       "  -0.017944157123565674,\n",
       "  0.04492057114839554,\n",
       "  -0.05416066572070122,\n",
       "  -0.0019225423457100987,\n",
       "  0.014832953922450542,\n",
       "  0.007913489826023579,\n",
       "  -0.0343126505613327,\n",
       "  0.01214810460805893,\n",
       "  0.012718597427010536,\n",
       "  -0.01600915938615799,\n",
       "  0.007121269591152668,\n",
       "  0.015838919207453728,\n",
       "  -0.00032757947337813675,\n",
       "  0.00301291118375957,\n",
       "  -0.045891787856817245,\n",
       "  -0.00134771887678653,\n",
       "  0.02011498622596264,\n",
       "  0.023372456431388855,\n",
       "  -0.004282021429389715,\n",
       "  -0.030938340350985527,\n",
       "  0.001943103619851172,\n",
       "  -0.018821943551301956,\n",
       "  0.005351603496819735,\n",
       "  0.012935241684317589,\n",
       "  -0.03239591419696808,\n",
       "  0.03105565346777439,\n",
       "  0.0051298425532877445,\n",
       "  -0.0003245066909585148,\n",
       "  -0.0315542072057724,\n",
       "  0.019337743520736694,\n",
       "  -0.06386011093854904,\n",
       "  -0.030538048595190048,\n",
       "  -0.06278851628303528,\n",
       "  -0.0174859669059515,\n",
       "  0.03529492765665054,\n",
       "  -0.029807081446051598,\n",
       "  0.07453461736440659,\n",
       "  -0.020618196576833725,\n",
       "  -0.017915688455104828,\n",
       "  0.01862628385424614,\n",
       "  0.05310133472084999,\n",
       "  0.011928715743124485,\n",
       "  -0.051854293793439865,\n",
       "  -0.0016192395705729723,\n",
       "  0.035870619118213654,\n",
       "  -0.006523248739540577,\n",
       "  0.045328740030527115,\n",
       "  -0.010617422871291637,\n",
       "  0.010241548530757427,\n",
       "  -0.04412011429667473,\n",
       "  -0.07079851627349854,\n",
       "  0.01336657628417015,\n",
       "  -0.020506301894783974,\n",
       "  0.036204222589731216,\n",
       "  -0.0339449979364872,\n",
       "  0.03251389414072037,\n",
       "  0.022220415994524956,\n",
       "  -0.03241369500756264,\n",
       "  -0.03931599482893944,\n",
       "  0.00027537133428268135,\n",
       "  0.02436860278248787,\n",
       "  0.01578904688358307,\n",
       "  0.02504091151058674,\n",
       "  0.0017095498042181134,\n",
       "  -0.0002632441173773259,\n",
       "  0.04402174428105354,\n",
       "  -0.054636482149362564,\n",
       "  0.023434890434145927,\n",
       "  0.029948683455586433,\n",
       "  0.014127490110695362,\n",
       "  -0.029133033007383347,\n",
       "  -0.006473860703408718,\n",
       "  -0.035405345261096954,\n",
       "  0.017130600288510323,\n",
       "  0.029090436175465584,\n",
       "  0.014685827307403088,\n",
       "  0.008543326519429684,\n",
       "  -0.03444173187017441,\n",
       "  -0.010483584366738796,\n",
       "  0.031548529863357544,\n",
       "  -0.08746444433927536,\n",
       "  -0.021182948723435402,\n",
       "  -0.05052269622683525,\n",
       "  -0.007523404899984598,\n",
       "  0.044279325753450394,\n",
       "  0.03775102272629738,\n",
       "  -0.0012498321011662483,\n",
       "  0.006453995127230883,\n",
       "  -0.015307953581213951,\n",
       "  0.01664080284535885,\n",
       "  0.05463913455605507,\n",
       "  0.01785009168088436,\n",
       "  -0.007612867280840874,\n",
       "  -0.04611032083630562,\n",
       "  0.04100204259157181,\n",
       "  -0.045227304100990295,\n",
       "  -0.027762332931160927,\n",
       "  0.01952880620956421,\n",
       "  -0.06118679419159889,\n",
       "  0.011264392174780369,\n",
       "  0.0050854552537202835,\n",
       "  0.048585135489702225,\n",
       "  -0.009070005267858505,\n",
       "  -0.009793439880013466,\n",
       "  0.017246199771761894,\n",
       "  -0.07309047877788544,\n",
       "  0.053657323122024536,\n",
       "  -0.032401639968156815,\n",
       "  0.012410486117005348,\n",
       "  0.010690395720303059,\n",
       "  0.033072128891944885,\n",
       "  0.041483934968709946,\n",
       "  0.03384290635585785,\n",
       "  -0.0011289259418845177,\n",
       "  -0.09085254371166229,\n",
       "  0.0037602277006953955,\n",
       "  -0.03495745733380318,\n",
       "  0.01314735971391201,\n",
       "  0.01338281575590372,\n",
       "  0.03444746509194374,\n",
       "  0.06850552558898926,\n",
       "  -0.014245477505028248,\n",
       "  -0.05422978848218918,\n",
       "  -0.008573775179684162,\n",
       "  0.024268750101327896,\n",
       "  0.05158684775233269,\n",
       "  -0.028977565467357635,\n",
       "  -0.014767729677259922,\n",
       "  -0.010824051685631275,\n",
       "  -0.05663938447833061,\n",
       "  -0.002075259108096361,\n",
       "  -0.037121016532182693,\n",
       "  0.004005147609859705,\n",
       "  -0.05979011580348015,\n",
       "  -0.015588882379233837,\n",
       "  0.027270402759313583,\n",
       "  0.01947205513715744,\n",
       "  0.018741484731435776,\n",
       "  -0.03745103254914284,\n",
       "  0.026206625625491142,\n",
       "  0.07502858340740204,\n",
       "  0.02161017805337906,\n",
       "  -0.013781300745904446,\n",
       "  0.05019887909293175,\n",
       "  -0.006470221560448408,\n",
       "  0.05674293637275696,\n",
       "  -0.0403868667781353,\n",
       "  -0.012067461386322975,\n",
       "  0.08550529181957245,\n",
       "  -0.002716515911743045,\n",
       "  0.02788233384490013,\n",
       "  -0.04388181120157242,\n",
       "  -0.028274599462747574,\n",
       "  0.019206823781132698,\n",
       "  -0.04362376034259796,\n",
       "  0.03981291130185127,\n",
       "  -0.056306760758161545,\n",
       "  0.013733106665313244,\n",
       "  0.004010949749499559,\n",
       "  -0.007014469243586063,\n",
       "  -0.01519207376986742,\n",
       "  0.04401584342122078,\n",
       "  0.027232591062784195,\n",
       "  0.033280715346336365,\n",
       "  0.03218982368707657,\n",
       "  -0.08189915865659714,\n",
       "  -0.05927704647183418,\n",
       "  0.022222014144062996,\n",
       "  -0.026907647028565407,\n",
       "  0.04159422218799591,\n",
       "  -0.013776133768260479,\n",
       "  0.04106299579143524,\n",
       "  0.04053248465061188,\n",
       "  -0.05586954951286316,\n",
       "  0.03603022173047066,\n",
       "  -0.006356787867844105,\n",
       "  -0.016504619270563126,\n",
       "  -0.001071605016477406,\n",
       "  -0.007761229760944843,\n",
       "  0.05121587961912155,\n",
       "  -0.030767101794481277,\n",
       "  -0.039804648607969284,\n",
       "  0.021966654807329178,\n",
       "  -0.009506321512162685,\n",
       "  0.02662814036011696,\n",
       "  0.03573579713702202,\n",
       "  0.05895013362169266,\n",
       "  0.005540564190596342,\n",
       "  -0.001415882259607315,\n",
       "  -0.023117706179618835,\n",
       "  0.002413008827716112,\n",
       "  -0.02711707539856434,\n",
       "  -0.03011023998260498,\n",
       "  -0.01716942898929119,\n",
       "  -0.03586818650364876,\n",
       "  -0.04034517705440521,\n",
       "  0.020225392654538155,\n",
       "  0.013183827511966228,\n",
       "  -0.010526018217206001,\n",
       "  0.016533590853214264,\n",
       "  -0.012269768863916397,\n",
       "  -0.03936802223324776,\n",
       "  0.009125894866883755,\n",
       "  -0.013484618626534939,\n",
       "  0.027365529909729958,\n",
       "  0.03886774182319641,\n",
       "  -0.0036522112786769867,\n",
       "  -0.0211339071393013,\n",
       "  0.0002259306056657806,\n",
       "  -0.03126223012804985,\n",
       "  -0.0347088947892189,\n",
       "  -0.04129165783524513,\n",
       "  0.02910987287759781,\n",
       "  0.054495919495821,\n",
       "  -0.13207006454467773,\n",
       "  0.009592855349183083,\n",
       "  -0.013713487423956394,\n",
       "  0.04406754672527313,\n",
       "  -0.10382571071386337,\n",
       "  0.0636642575263977,\n",
       "  0.008609859272837639,\n",
       "  0.01490373257547617,\n",
       "  0.0008227372309193015,\n",
       "  -0.022060062736272812,\n",
       "  -0.0009558778838254511,\n",
       "  -0.00044576619984582067,\n",
       "  -0.012614314444363117,\n",
       "  -0.047599613666534424,\n",
       "  -0.02142268605530262,\n",
       "  0.0469316765666008,\n",
       "  0.025952862575650215,\n",
       "  -0.010970464907586575,\n",
       "  -0.016942085698246956,\n",
       "  0.007519866805523634,\n",
       "  -0.0515509657561779,\n",
       "  0.042899634689092636,\n",
       "  0.001281183329410851,\n",
       "  -0.01046629436314106,\n",
       "  -0.016483653336763382,\n",
       "  -0.049801599234342575,\n",
       "  0.04393434524536133,\n",
       "  0.0584346204996109,\n",
       "  -0.044417545199394226,\n",
       "  0.0068999528884887695,\n",
       "  0.053915973752737045,\n",
       "  0.01757660321891308,\n",
       "  0.007085638120770454,\n",
       "  -0.021879712119698524,\n",
       "  -0.001891412422992289,\n",
       "  0.01055135764181614,\n",
       "  -0.059814177453517914,\n",
       "  -0.031312454491853714,\n",
       "  -0.027316896244883537,\n",
       "  0.031289681792259216,\n",
       "  0.05491170287132263,\n",
       "  -0.01857278123497963,\n",
       "  -0.021536076441407204,\n",
       "  0.06173625588417053,\n",
       "  0.007075335364788771,\n",
       "  0.02014934830367565,\n",
       "  -0.04060403257608414,\n",
       "  0.023005278781056404,\n",
       "  0.020189499482512474,\n",
       "  0.018080292269587517,\n",
       "  0.0335160531103611,\n",
       "  -0.02270582877099514,\n",
       "  -0.0581536591053009,\n",
       "  0.03042648918926716,\n",
       "  -0.014014159329235554,\n",
       "  0.029539773240685463,\n",
       "  0.011753607541322708,\n",
       "  -0.07837338000535965,\n",
       "  0.02789718098938465,\n",
       "  -0.04301061853766441,\n",
       "  -0.07590097934007645,\n",
       "  0.049275003373622894,\n",
       "  0.075960673391819,\n",
       "  0.0035448300186544657,\n",
       "  0.05815354362130165,\n",
       "  0.04697785899043083,\n",
       "  -0.004000130575150251,\n",
       "  -0.004005480092018843,\n",
       "  0.025161512196063995,\n",
       "  -0.09958125650882721,\n",
       "  0.03342917189002037,\n",
       "  -0.0030180609319359064,\n",
       "  0.030154163017868996,\n",
       "  0.04549311846494675,\n",
       "  -0.07252290844917297,\n",
       "  0.04016261175274849,\n",
       "  -0.011675762943923473,\n",
       "  -0.0061969757080078125,\n",
       "  -0.09541627019643784,\n",
       "  -0.030112169682979584,\n",
       "  -0.027496401220560074,\n",
       "  -0.04448193684220314,\n",
       "  0.0015252386219799519,\n",
       "  -0.06313164532184601,\n",
       "  -0.0802881047129631,\n",
       "  0.045577745884656906,\n",
       "  0.030804384499788284,\n",
       "  -0.004651426803320646,\n",
       "  -0.002482393989339471,\n",
       "  -0.018703574314713478,\n",
       "  0.03568144142627716,\n",
       "  -0.08614859730005264,\n",
       "  -0.00876672100275755,\n",
       "  0.05942339077591896,\n",
       "  0.0703033059835434,\n",
       "  -0.0033550539519637823,\n",
       "  0.031428489834070206,\n",
       "  0.03355574980378151,\n",
       "  0.04473593458533287,\n",
       "  -0.018278148025274277,\n",
       "  0.004337420221418142,\n",
       "  -0.015607119537889957,\n",
       "  0.04826980084180832,\n",
       "  0.05781101807951927,\n",
       "  -0.0015557293081656098,\n",
       "  -0.0307916272431612,\n",
       "  0.030699776485562325,\n",
       "  0.030509527772665024,\n",
       "  0.04373449832201004,\n",
       "  -0.024643227458000183,\n",
       "  -0.01987447589635849,\n",
       "  0.0072564613074064255,\n",
       "  0.03617560863494873,\n",
       "  -0.018670925870537758,\n",
       "  -0.016978075727820396,\n",
       "  0.05282926931977272,\n",
       "  0.0017206966876983643,\n",
       "  0.03347213193774223,\n",
       "  -0.06576978415250778,\n",
       "  -0.03208174183964729,\n",
       "  0.004121712408959866,\n",
       "  0.008295142091810703,\n",
       "  -0.04564119875431061,\n",
       "  0.032022517174482346,\n",
       "  -0.022889798507094383,\n",
       "  0.055255625396966934,\n",
       "  0.04025791585445404,\n",
       "  -0.029095755890011787,\n",
       "  -0.0034428532235324383,\n",
       "  -0.01382167637348175,\n",
       "  -0.0006289391312748194,\n",
       "  0.025344502180814743,\n",
       "  0.018979419022798538,\n",
       "  -0.04450936242938042,\n",
       "  -0.04783521965146065,\n",
       "  0.0322866328060627,\n",
       "  0.06688249111175537,\n",
       "  -0.008674714714288712,\n",
       "  -0.007800196297466755,\n",
       "  0.002928835107013583,\n",
       "  -0.024229245260357857,\n",
       "  -0.02096504345536232,\n",
       "  -0.10920881479978561,\n",
       "  -0.02943635731935501,\n",
       "  0.014771176502108574,\n",
       "  -0.04474222660064697,\n",
       "  -0.027101092040538788,\n",
       "  -0.003911299630999565,\n",
       "  0.01681010238826275,\n",
       "  0.03118414618074894,\n",
       "  0.012417835183441639,\n",
       "  0.00659743370488286,\n",
       "  -0.004446871113032103,\n",
       "  -0.034514524042606354,\n",
       "  -0.0012445312459021807,\n",
       "  0.056103311479091644,\n",
       "  -0.04121515899896622,\n",
       "  0.04748436063528061,\n",
       "  0.039292093366384506,\n",
       "  -0.05785391107201576,\n",
       "  -0.04475884512066841,\n",
       "  0.01951530948281288,\n",
       "  0.030111240223050117,\n",
       "  -0.008723454549908638,\n",
       "  -0.028505448251962662,\n",
       "  -0.007272582966834307,\n",
       "  0.03589128702878952,\n",
       "  -0.07096099108457565,\n",
       "  -0.06567522883415222,\n",
       "  0.0050380839966237545,\n",
       "  0.02900211699306965,\n",
       "  0.004086259752511978,\n",
       "  0.00797062087804079,\n",
       "  -0.0229644775390625,\n",
       "  -0.044117171317338943,\n",
       "  0.04122127220034599,\n",
       "  0.021706584841012955,\n",
       "  0.012313018552958965,\n",
       "  -0.017423447221517563,\n",
       "  -0.01556999608874321,\n",
       "  -0.01174390409141779,\n",
       "  0.051872022449970245,\n",
       "  0.0034444534685462713,\n",
       "  -0.06667754799127579,\n",
       "  0.033514365553855896,\n",
       "  -0.00439760135486722,\n",
       "  -0.03664330020546913,\n",
       "  0.07483447343111038,\n",
       "  0.013754397630691528,\n",
       "  -0.05057227239012718,\n",
       "  -0.01695086993277073,\n",
       "  -0.0913899689912796,\n",
       "  0.03946185111999512,\n",
       "  -0.04915342107415199,\n",
       "  0.02323993295431137,\n",
       "  -0.00695743877440691,\n",
       "  -0.024937715381383896,\n",
       "  0.0179813951253891,\n",
       "  -0.03917509689927101,\n",
       "  0.02727944403886795,\n",
       "  0.05390871316194534,\n",
       "  0.06702566891908646,\n",
       "  0.0287339985370636,\n",
       "  0.007152016740292311,\n",
       "  0.044869180768728256,\n",
       "  -0.028959006071090698,\n",
       "  0.026786204427480698,\n",
       "  0.06713929027318954,\n",
       "  -0.0037188692949712276,\n",
       "  -0.02134714461863041,\n",
       "  0.04029284417629242,\n",
       "  0.05374309420585632,\n",
       "  0.002693064510822296,\n",
       "  0.0333234928548336,\n",
       "  0.04194601625204086,\n",
       "  0.03771016001701355,\n",
       "  0.010090786963701248,\n",
       "  0.01640338823199272,\n",
       "  0.0137284891679883,\n",
       "  0.04923026263713837,\n",
       "  0.05353640764951706,\n",
       "  0.05795262008905411,\n",
       "  -0.032913871109485626,\n",
       "  0.012246014550328255,\n",
       "  0.028826190158724785,\n",
       "  -0.004936657380312681,\n",
       "  0.02961723320186138,\n",
       "  0.006326156668365002,\n",
       "  -0.04799124225974083,\n",
       "  -0.03149162232875824,\n",
       "  -0.03972427174448967,\n",
       "  -0.035066574811935425,\n",
       "  0.0029980225954204798,\n",
       "  -0.009440681897103786,\n",
       "  0.002625634428113699,\n",
       "  0.009905078448355198,\n",
       "  -0.05186458304524422,\n",
       "  0.020404024049639702,\n",
       "  0.03755412995815277,\n",
       "  0.00865954626351595,\n",
       "  0.03738291189074516,\n",
       "  0.025447189807891846,\n",
       "  -0.013263450004160404,\n",
       "  0.08062636852264404,\n",
       "  0.021031558513641357,\n",
       "  -0.019904006272554398,\n",
       "  -0.010063915513455868,\n",
       "  -0.03937889635562897,\n",
       "  -0.033222805708646774,\n",
       "  0.014128167182207108,\n",
       "  0.040027912706136703,\n",
       "  -0.007603695150464773,\n",
       "  -0.0489356629550457,\n",
       "  -0.026779718697071075,\n",
       "  -0.05594078078866005,\n",
       "  0.032178815454244614,\n",
       "  0.00822693295776844,\n",
       "  0.03761357441544533,\n",
       "  0.008176101371645927,\n",
       "  -0.01378474198281765,\n",
       "  -0.021696165204048157,\n",
       "  0.012726101092994213,\n",
       "  -0.006388674955815077,\n",
       "  -0.008469510823488235,\n",
       "  -0.00606390368193388,\n",
       "  -0.011648518964648247,\n",
       "  0.011511415243148804,\n",
       "  0.027204077690839767,\n",
       "  -0.012937544845044613,\n",
       "  -0.013001494109630585,\n",
       "  0.03714553266763687,\n",
       "  0.021876642480492592,\n",
       "  0.024183226749300957,\n",
       "  0.00034334795782342553,\n",
       "  -0.01445655059069395,\n",
       "  0.032443732023239136,\n",
       "  0.057867005467414856,\n",
       "  0.01250156108289957,\n",
       "  0.018398461863398552,\n",
       "  -0.07320848852396011,\n",
       "  -0.01243067067116499,\n",
       "  -0.018583154305815697,\n",
       "  -0.00232736230827868,\n",
       "  0.014750861562788486,\n",
       "  0.011995397508144379,\n",
       "  -0.002086248714476824,\n",
       "  -0.0290985070168972,\n",
       "  0.0003422950685489923,\n",
       "  -0.02481837384402752,\n",
       "  -0.027820367366075516,\n",
       "  -0.003263037884607911,\n",
       "  -0.01130684744566679,\n",
       "  -0.038218945264816284,\n",
       "  -0.08833776414394379,\n",
       "  -0.02679327130317688,\n",
       "  -0.049760300666093826,\n",
       "  0.010624920018017292,\n",
       "  -0.020350676029920578,\n",
       "  0.04618970304727554,\n",
       "  0.030414218083024025,\n",
       "  0.07392590492963791,\n",
       "  -0.01937282271683216,\n",
       "  -0.06244366243481636,\n",
       "  -0.04301828891038895,\n",
       "  -0.0024443769361823797,\n",
       "  0.023197611793875694,\n",
       "  0.024007227271795273,\n",
       "  -0.0632212683558464,\n",
       "  -0.012870721518993378,\n",
       "  -0.010662819258868694,\n",
       "  -0.012162812985479832,\n",
       "  0.0463576540350914,\n",
       "  0.00866865273565054,\n",
       "  -0.03911358118057251,\n",
       "  0.005180589389055967,\n",
       "  -0.03372691944241524,\n",
       "  0.04080529510974884,\n",
       "  0.04560210555791855,\n",
       "  -0.005357216112315655,\n",
       "  0.014781611040234566,\n",
       "  0.006527663208544254,\n",
       "  -0.019199877977371216,\n",
       "  0.013241896405816078,\n",
       "  0.012835337780416012,\n",
       "  0.03140290826559067,\n",
       "  0.021975284442305565,\n",
       "  -0.01877683773636818,\n",
       "  0.009018358774483204,\n",
       "  0.01667589507997036,\n",
       "  0.0013696773676201701,\n",
       "  0.048540208488702774,\n",
       "  -0.05049962177872658,\n",
       "  0.0272835623472929,\n",
       "  -0.0028078353498131037,\n",
       "  0.008748057298362255,\n",
       "  0.02166605181992054,\n",
       "  0.016653157770633698,\n",
       "  -0.04643403738737106,\n",
       "  -0.019411267712712288,\n",
       "  0.014926486648619175,\n",
       "  -0.02046022191643715,\n",
       "  -0.09302998334169388,\n",
       "  -0.0035757431760430336,\n",
       "  0.043692827224731445,\n",
       "  0.04182281345129013,\n",
       "  -0.010474056005477905,\n",
       "  0.00913387630134821,\n",
       "  -0.012657774612307549,\n",
       "  0.0009287367574870586,\n",
       "  0.0303165465593338,\n",
       "  0.009253754280507565,\n",
       "  -0.0015813146019354463,\n",
       "  0.0660841166973114,\n",
       "  0.019765954464673996,\n",
       "  -0.036044470965862274,\n",
       "  -0.00343119609169662,\n",
       "  -0.0359756238758564,\n",
       "  0.014951170422136784,\n",
       "  -0.028811033815145493,\n",
       "  0.01711004599928856,\n",
       "  0.04958778992295265,\n",
       "  0.03531934320926666,\n",
       "  0.04192255809903145,\n",
       "  0.04837298393249512,\n",
       "  0.01963360793888569,\n",
       "  -0.0017003272660076618,\n",
       "  0.09818659722805023,\n",
       "  0.017709368839859962,\n",
       "  -0.003845664206892252,\n",
       "  -0.045268166810274124,\n",
       "  -0.004134726710617542,\n",
       "  -0.05719601735472679,\n",
       "  0.010475857183337212,\n",
       "  0.017303574830293655,\n",
       "  0.041452113538980484,\n",
       "  0.016882989555597305,\n",
       "  -0.01235757302492857,\n",
       "  -0.013578424230217934,\n",
       "  0.06878914684057236,\n",
       "  0.018670877441763878,\n",
       "  0.05502760037779808,\n",
       "  0.02717590518295765,\n",
       "  -0.030290020629763603,\n",
       "  0.04207976162433624,\n",
       "  0.03585467487573624,\n",
       "  -0.07052727043628693,\n",
       "  0.008977985009551048,\n",
       "  0.030406441539525986,\n",
       "  -0.004934745375066996,\n",
       "  -0.0386132150888443,\n",
       "  -0.06361852586269379,\n",
       "  -0.012805006466805935,\n",
       "  0.01455546822398901,\n",
       "  -0.03869970142841339,\n",
       "  -0.019009578973054886,\n",
       "  -0.04165391996502876,\n",
       "  -0.055331602692604065,\n",
       "  0.0031424639746546745,\n",
       "  -0.040570881217718124,\n",
       "  -0.004656652919948101,\n",
       "  0.012083371169865131,\n",
       "  0.03925543650984764,\n",
       "  -0.014848899096250534,\n",
       "  -0.04438795521855354,\n",
       "  -0.019500238820910454,\n",
       "  -0.020003750920295715,\n",
       "  -0.03848797827959061,\n",
       "  0.06507274508476257,\n",
       "  0.0015844011213630438,\n",
       "  0.024222413077950478,\n",
       "  0.021176744252443314,\n",
       "  -0.028045695275068283,\n",
       "  0.050649601966142654,\n",
       "  -0.031792525202035904,\n",
       "  -0.03930605947971344,\n",
       "  -0.07486286014318466,\n",
       "  -0.014793875627219677,\n",
       "  0.0029355441220104694,\n",
       "  -0.0019087358377873898,\n",
       "  -0.04621529579162598,\n",
       "  0.0279245488345623,\n",
       "  0.05362127348780632,\n",
       "  0.05088870972394943,\n",
       "  -0.036344293504953384,\n",
       "  0.04830426722764969,\n",
       "  0.02088785171508789,\n",
       "  0.04742923751473427,\n",
       "  0.004926538094878197,\n",
       "  -0.02714100107550621,\n",
       "  0.054768603295087814,\n",
       "  -0.0414409264922142,\n",
       "  -0.005685143172740936,\n",
       "  -0.030476635321974754,\n",
       "  0.003945821896195412,\n",
       "  -0.03121950849890709,\n",
       "  -0.04373825341463089,\n",
       "  0.021200386807322502,\n",
       "  -0.018049394711852074,\n",
       "  0.028170138597488403,\n",
       "  0.03965519741177559,\n",
       "  -0.05359502509236336,\n",
       "  0.05332693085074425,\n",
       "  0.00767337204888463,\n",
       "  -0.023318743333220482,\n",
       "  -0.0142170749604702,\n",
       "  0.05316478759050369,\n",
       "  -0.03497461602091789,\n",
       "  0.06540816277265549,\n",
       "  0.043731383979320526,\n",
       "  -0.072545126080513,\n",
       "  0.048938386142253876,\n",
       "  -0.009124647825956345,\n",
       "  0.045933160930871964,\n",
       "  -0.034643061459064484,\n",
       "  -0.02723858878016472,\n",
       "  -0.030477087944746017,\n",
       "  -0.04054103046655655,\n",
       "  0.050794415175914764,\n",
       "  0.023916184902191162,\n",
       "  -0.042127642780542374,\n",
       "  -0.07534072548151016,\n",
       "  -6.37254270259291e-05,\n",
       "  0.023182088509202003,\n",
       "  0.02982017584145069,\n",
       "  -0.046795181930065155,\n",
       "  0.010502472519874573,\n",
       "  -0.00833895429968834,\n",
       "  -0.025390837341547012,\n",
       "  -0.0027892114594578743,\n",
       "  -0.05804824456572533,\n",
       "  -0.0358988381922245,\n",
       "  0.010423378087580204,\n",
       "  -0.033145394176244736,\n",
       "  -0.02298712730407715,\n",
       "  0.0190615002065897,\n",
       "  -0.040562015026807785,\n",
       "  0.003411112353205681,\n",
       "  0.010771564207971096,\n",
       "  0.05108226463198662,\n",
       "  -0.03883637487888336,\n",
       "  -0.03847837820649147,\n",
       "  0.043873380869627,\n",
       "  -0.03461189568042755,\n",
       "  0.01730417273938656,\n",
       "  0.016271555796265602,\n",
       "  0.021448949351906776,\n",
       "  -0.02261815220117569,\n",
       "  -0.016936596482992172,\n",
       "  0.02300860919058323,\n",
       "  0.02551325410604477,\n",
       "  0.08108697831630707,\n",
       "  0.05525730177760124,\n",
       "  0.018132753670215607,\n",
       "  0.023269062861800194,\n",
       "  0.0737190842628479,\n",
       "  -0.025365153327584267,\n",
       "  0.014127098023891449,\n",
       "  0.007179089821875095,\n",
       "  0.04396483302116394,\n",
       "  -0.012754536233842373,\n",
       "  0.02304658479988575,\n",
       "  0.03012644499540329,\n",
       "  -0.007241771090775728,\n",
       "  0.038240138441324234,\n",
       "  0.055661994963884354,\n",
       "  -0.06769970059394836,\n",
       "  -0.024317029863595963,\n",
       "  -0.011705282144248486,\n",
       "  -0.01589558646082878,\n",
       "  0.04498126357793808,\n",
       "  -0.05126340314745903,\n",
       "  0.02380261942744255,\n",
       "  0.0347883515059948,\n",
       "  -0.03949058800935745,\n",
       "  -0.03042786940932274,\n",
       "  0.031154673546552658,\n",
       "  -0.021378641948103905,\n",
       "  0.030925942584872246,\n",
       "  0.014232465997338295,\n",
       "  -0.0656462088227272,\n",
       "  0.014602217823266983,\n",
       "  0.003426026552915573,\n",
       "  0.04441902041435242,\n",
       "  0.0022030428517609835,\n",
       "  -0.018653379753232002,\n",
       "  0.0199845302850008,\n",
       "  -0.0516025610268116,\n",
       "  -0.04817413538694382,\n",
       "  0.013059394434094429,\n",
       "  0.01769738458096981,\n",
       "  -0.011978433467447758,\n",
       "  -0.009832879528403282,\n",
       "  -0.07014449685811996,\n",
       "  -0.06584879010915756,\n",
       "  0.06759368628263474,\n",
       "  -0.028017055243253708,\n",
       "  0.007451235316693783,\n",
       "  0.0024191592819988728,\n",
       "  0.011471292935311794]}"
      ]
     },
     "execution_count": 94,
     "metadata": {},
     "output_type": "execute_result"
    }
   ],
   "source": [
    "operations[0]"
   ]
  },
  {
   "cell_type": "code",
   "execution_count": 95,
   "metadata": {},
   "outputs": [],
   "source": [
    "for doc in operations:\n",
    "    try:\n",
    "        es_client.index(index=index_name, document=doc)\n",
    "    except Exception as e:\n",
    "        print(e)"
   ]
  },
  {
   "cell_type": "markdown",
   "metadata": {},
   "source": [
    "#### Q5. Indexing with Elasticsearch"
   ]
  },
  {
   "cell_type": "code",
   "execution_count": 96,
   "metadata": {},
   "outputs": [
    {
     "data": {
      "text/plain": [
       "(768,)"
      ]
     },
     "execution_count": 96,
     "metadata": {},
     "output_type": "execute_result"
    }
   ],
   "source": [
    "user_question = \"I just discovered the course. Can I still join it?\"\n",
    "v = model.encode(user_question)\n",
    "v.shape"
   ]
  },
  {
   "cell_type": "code",
   "execution_count": 97,
   "metadata": {},
   "outputs": [],
   "source": [
    "query = {\n",
    "    \"field\": \"text_vector\",\n",
    "    \"query_vector\": model.encode(user_question),\n",
    "    \"k\": 5,\n",
    "    \"num_candidates\": 10000, \n",
    "}\n",
    "\n",
    "res = es_client.search(index=index_name, knn=query, source=[\"text\", \"section\", \"question\", \"course\", \"id\"])\n",
    "res[\"hits\"][\"hits\"]"
   ]
  },
  {
   "cell_type": "code",
   "execution_count": 101,
   "metadata": {},
   "outputs": [],
   "source": [
    "res = es_client.search(index=index_name, knn=query, source=[\"text\", \"section\", \"question\", \"course\", \"id\"])\n",
    "results = res[\"hits\"][\"hits\"]"
   ]
  },
  {
   "cell_type": "code",
   "execution_count": 104,
   "metadata": {},
   "outputs": [
    {
     "data": {
      "text/plain": [
       "'ee58a693'"
      ]
     },
     "execution_count": 104,
     "metadata": {},
     "output_type": "execute_result"
    }
   ],
   "source": [
    "results[0][\"_source\"][\"id\"]"
   ]
  },
  {
   "cell_type": "markdown",
   "metadata": {},
   "source": [
    "#### Q6. Hit-rate for Elasticsearch"
   ]
  },
  {
   "cell_type": "code",
   "execution_count": 100,
   "metadata": {},
   "outputs": [
    {
     "data": {
      "text/plain": [
       "{'question': 'Where can I sign up for the course?',\n",
       " 'course': 'machine-learning-zoomcamp',\n",
       " 'document': '0227b872'}"
      ]
     },
     "execution_count": 100,
     "metadata": {},
     "output_type": "execute_result"
    }
   ],
   "source": [
    "ground_truth[0]"
   ]
  },
  {
   "cell_type": "code",
   "execution_count": 106,
   "metadata": {},
   "outputs": [
    {
     "name": "stderr",
     "output_type": "stream",
     "text": [
      "100%|███████████████████████████████████████████████████████████████████████████████████████████████████████████| 1830/1830 [00:36<00:00, 50.60it/s]\n"
     ]
    }
   ],
   "source": [
    "relevance_total_es = []\n",
    "\n",
    "for q in tqdm(ground_truth):\n",
    "    doc_id = q['document']\n",
    "\n",
    "    v = model.encode(q['question'])\n",
    "    # results = elastic_search(query=q['question'], course=q['course'])\n",
    "    # results = search_engine.search(v, num_results=5)\n",
    "    query = {\n",
    "        \"field\": \"text_vector\",\n",
    "        \"query_vector\": v,\n",
    "        \"k\": 5,\n",
    "        \"num_candidates\": 10000, \n",
    "    }\n",
    "\n",
    "    res = es_client.search(index=index_name, knn=query, source=[\"text\", \"section\", \"question\", \"course\", \"id\"])\n",
    "    results = res[\"hits\"][\"hits\"]\n",
    "    \n",
    "    relevance = [d[\"_source\"][\"id\"] == doc_id for d in results]\n",
    "    relevance_total_es.append(relevance)"
   ]
  },
  {
   "cell_type": "code",
   "execution_count": 107,
   "metadata": {},
   "outputs": [
    {
     "data": {
      "text/plain": [
       "[[False, False, False, False, False],\n",
       " [True, False, False, False, False],\n",
       " [True, False, False, False, False],\n",
       " [False, False, False, False, False],\n",
       " [False, False, False, True, False],\n",
       " [True, False, False, False, False],\n",
       " [True, False, False, False, False]]"
      ]
     },
     "execution_count": 107,
     "metadata": {},
     "output_type": "execute_result"
    }
   ],
   "source": [
    "relevance_total_es[:7]"
   ]
  },
  {
   "cell_type": "code",
   "execution_count": 108,
   "metadata": {},
   "outputs": [
    {
     "data": {
      "text/plain": [
       "0.9398907103825137"
      ]
     },
     "execution_count": 108,
     "metadata": {},
     "output_type": "execute_result"
    }
   ],
   "source": [
    "hit_rate(relevance_total_es)"
   ]
  },
  {
   "cell_type": "code",
   "execution_count": 109,
   "metadata": {},
   "outputs": [],
   "source": [
    "### search using ES capablities "
   ]
  },
  {
   "cell_type": "code",
   "execution_count": 142,
   "metadata": {},
   "outputs": [
    {
     "data": {
      "text/plain": [
       "'hw3-index'"
      ]
     },
     "execution_count": 142,
     "metadata": {},
     "output_type": "execute_result"
    }
   ],
   "source": [
    "index_name"
   ]
  },
  {
   "cell_type": "code",
   "execution_count": 113,
   "metadata": {},
   "outputs": [],
   "source": [
    "def elastic_search(query, course):\n",
    "    search_query = {\n",
    "        \"size\": 5,\n",
    "        \"query\": {\n",
    "            \"bool\": {\n",
    "                \"must\": {\n",
    "                    \"multi_match\": {\n",
    "                        \"query\": query,\n",
    "                        \"fields\": [\"question^3\", \"text\", \"section\"],\n",
    "                        \"type\": \"best_fields\"\n",
    "                    }\n",
    "                },\n",
    "                \"filter\": {\n",
    "                    \"term\": {\n",
    "                        \"course\": course\n",
    "                    }\n",
    "                }\n",
    "            }\n",
    "        }\n",
    "    }\n",
    "\n",
    "    response = es_client.search(index=index_name, body=search_query)\n",
    "    \n",
    "    result_docs = []\n",
    "    \n",
    "    for hit in response['hits']['hits']:\n",
    "        result_docs.append(hit['_source'])\n",
    "    \n",
    "    return result_docs"
   ]
  },
  {
   "cell_type": "code",
   "execution_count": 115,
   "metadata": {},
   "outputs": [],
   "source": [
    "user_question = \"I just discovered the course. Can I still join it?\"\n",
    "es_result = elastic_search(\n",
    "    query=user_question,\n",
    "    course=\"machine-learning-zoomcamp\"\n",
    ")"
   ]
  },
  {
   "cell_type": "code",
   "execution_count": 116,
   "metadata": {},
   "outputs": [
    {
     "data": {
      "text/plain": [
       "5"
      ]
     },
     "execution_count": 116,
     "metadata": {},
     "output_type": "execute_result"
    }
   ],
   "source": [
    "len(es_result)"
   ]
  },
  {
   "cell_type": "code",
   "execution_count": 121,
   "metadata": {},
   "outputs": [
    {
     "data": {
      "text/plain": [
       "{'text': 'Yes, you can. You won’t be able to submit some of the homeworks, but you can still take part in the course.\\nIn order to get a certificate, you need to submit 2 out of 3 course projects and review 3 peers’ Projects by the deadline. It means that if you join the course at the end of November and manage to work on two projects, you will still be eligible for a certificate.',\n",
       " 'section': 'General course-related questions',\n",
       " 'question': 'The course has already started. Can I still join it?',\n",
       " 'course': 'machine-learning-zoomcamp',\n",
       " 'id': 'ee58a693',\n",
       " 'text_vector': [0.08062857389450073,\n",
       "  -0.06663881242275238,\n",
       "  0.025273088365793228,\n",
       "  -0.013004409149289131,\n",
       "  0.07587283849716187,\n",
       "  -0.05946262925863266,\n",
       "  -0.021883899345993996,\n",
       "  0.002900051651522517,\n",
       "  0.0007929456769488752,\n",
       "  -0.005222362000495195,\n",
       "  -0.03365178033709526,\n",
       "  -0.027913536876440048,\n",
       "  0.05811658129096031,\n",
       "  0.039748262614011765,\n",
       "  0.05441853404045105,\n",
       "  -0.038251642137765884,\n",
       "  0.06305743008852005,\n",
       "  -0.03896988928318024,\n",
       "  0.00043358211405575275,\n",
       "  -0.03558456525206566,\n",
       "  0.001756406156346202,\n",
       "  0.025700291618704796,\n",
       "  -0.0019694895017892122,\n",
       "  0.03428737074136734,\n",
       "  -0.011014553718268871,\n",
       "  0.10011613368988037,\n",
       "  0.008427172899246216,\n",
       "  0.04992208257317543,\n",
       "  0.034274566918611526,\n",
       "  -0.0026146220043301582,\n",
       "  0.02457602694630623,\n",
       "  -0.013860932551324368,\n",
       "  0.08861218392848969,\n",
       "  0.0014741176273673773,\n",
       "  0.028801511973142624,\n",
       "  -0.047437634319067,\n",
       "  -0.08680643141269684,\n",
       "  -0.026768364012241364,\n",
       "  -0.04616489261388779,\n",
       "  -0.020848333835601807,\n",
       "  -0.010826162993907928,\n",
       "  0.06644946336746216,\n",
       "  -0.010411066003143787,\n",
       "  0.008967642672359943,\n",
       "  0.012446397915482521,\n",
       "  -0.04020410031080246,\n",
       "  -0.010366499423980713,\n",
       "  -0.04094425216317177,\n",
       "  0.013511130586266518,\n",
       "  0.04443683102726936,\n",
       "  0.0052829221822321415,\n",
       "  0.008584564551711082,\n",
       "  -0.003375442698597908,\n",
       "  -0.05430134758353233,\n",
       "  0.004127549473196268,\n",
       "  -0.04457953944802284,\n",
       "  -0.006450683809816837,\n",
       "  -0.06001819297671318,\n",
       "  0.01819608174264431,\n",
       "  0.05263135954737663,\n",
       "  -0.014461550861597061,\n",
       "  0.0006670946604572237,\n",
       "  -0.018245376646518707,\n",
       "  0.01103818230330944,\n",
       "  -0.06452491134405136,\n",
       "  -0.02311744913458824,\n",
       "  0.04312719404697418,\n",
       "  -0.019158152863383293,\n",
       "  -0.07387655973434448,\n",
       "  0.012065243907272816,\n",
       "  0.018286868929862976,\n",
       "  0.027240950614213943,\n",
       "  -0.023993195965886116,\n",
       "  -0.010300875641405582,\n",
       "  -0.007453481201082468,\n",
       "  -0.05034147948026657,\n",
       "  -0.005919888149946928,\n",
       "  0.035289399325847626,\n",
       "  -0.00035916638444177806,\n",
       "  0.03951314091682434,\n",
       "  0.09393969923257828,\n",
       "  0.02445482276380062,\n",
       "  -0.023560520261526108,\n",
       "  0.02228131890296936,\n",
       "  -0.020716100931167603,\n",
       "  0.04558885097503662,\n",
       "  -0.04737817868590355,\n",
       "  -0.025200719013810158,\n",
       "  0.019827423617243767,\n",
       "  0.06504781544208527,\n",
       "  0.011071646586060524,\n",
       "  0.02401718497276306,\n",
       "  -0.018678003922104836,\n",
       "  -0.03513514995574951,\n",
       "  0.05103200301527977,\n",
       "  0.033168498426675797,\n",
       "  -0.06493555009365082,\n",
       "  -0.002591281896457076,\n",
       "  0.024245109409093857,\n",
       "  -0.026715241372585297,\n",
       "  -0.011911622248589993,\n",
       "  0.026161452755331993,\n",
       "  0.02910580486059189,\n",
       "  0.0445241779088974,\n",
       "  0.04020360857248306,\n",
       "  0.004695882089436054,\n",
       "  -0.031203193590044975,\n",
       "  -0.039037372916936874,\n",
       "  -0.03850167989730835,\n",
       "  -0.004076056648045778,\n",
       "  -0.008816404268145561,\n",
       "  -0.02941150963306427,\n",
       "  0.0054428717121481895,\n",
       "  0.008991888724267483,\n",
       "  0.012604833580553532,\n",
       "  -0.011535701341927052,\n",
       "  0.029702959582209587,\n",
       "  0.000341801845934242,\n",
       "  -0.05606940761208534,\n",
       "  -0.008227665908634663,\n",
       "  -0.08124229311943054,\n",
       "  0.011085139587521553,\n",
       "  0.0028504517395049334,\n",
       "  0.050882406532764435,\n",
       "  0.015889549627900124,\n",
       "  0.08773413300514221,\n",
       "  -0.026355165988206863,\n",
       "  -0.030333291739225388,\n",
       "  -0.01599646545946598,\n",
       "  -0.0453835166990757,\n",
       "  0.019612237811088562,\n",
       "  0.002734483452513814,\n",
       "  0.026489371433854103,\n",
       "  -0.020275501534342766,\n",
       "  0.014918557368218899,\n",
       "  0.013398987241089344,\n",
       "  0.010780293494462967,\n",
       "  -0.036653682589530945,\n",
       "  -0.013181411661207676,\n",
       "  0.02765307016670704,\n",
       "  -0.06379157304763794,\n",
       "  0.014417601749300957,\n",
       "  0.021211981773376465,\n",
       "  0.034591712057590485,\n",
       "  -0.028809789568185806,\n",
       "  0.06174807995557785,\n",
       "  -0.053944047540426254,\n",
       "  0.08251162618398666,\n",
       "  -0.058492954820394516,\n",
       "  0.015298070386052132,\n",
       "  0.020233122631907463,\n",
       "  0.005606020800769329,\n",
       "  -0.02411031350493431,\n",
       "  0.02025156468153,\n",
       "  0.03723442927002907,\n",
       "  0.005813216790556908,\n",
       "  0.0010559366783127189,\n",
       "  0.019661931321024895,\n",
       "  -0.0217299647629261,\n",
       "  -0.026198862120509148,\n",
       "  0.005376379005610943,\n",
       "  0.013171548023819923,\n",
       "  0.05465473234653473,\n",
       "  0.014049176126718521,\n",
       "  0.0005742426146753132,\n",
       "  0.03113885410130024,\n",
       "  0.013665426522493362,\n",
       "  -0.08014435321092606,\n",
       "  0.0344310961663723,\n",
       "  -0.01633470132946968,\n",
       "  -0.055057961493730545,\n",
       "  -0.04713922739028931,\n",
       "  -0.014994891360402107,\n",
       "  -0.051261771470308304,\n",
       "  -0.004653774667531252,\n",
       "  -0.03561974689364433,\n",
       "  0.006387375760823488,\n",
       "  0.011279148049652576,\n",
       "  0.01344410888850689,\n",
       "  -0.038340795785188675,\n",
       "  -0.05743918567895889,\n",
       "  0.012441706843674183,\n",
       "  0.016571426764130592,\n",
       "  -0.06064522638916969,\n",
       "  -0.02947758510708809,\n",
       "  0.039076898247003555,\n",
       "  -0.023900875821709633,\n",
       "  0.019610540941357613,\n",
       "  -0.0699394941329956,\n",
       "  0.03881131485104561,\n",
       "  0.0194049421697855,\n",
       "  0.04165254160761833,\n",
       "  0.009238429367542267,\n",
       "  -0.031096424907445908,\n",
       "  0.019866768270730972,\n",
       "  -0.015809031203389168,\n",
       "  0.005950248800218105,\n",
       "  0.049144063144922256,\n",
       "  0.006962330546230078,\n",
       "  0.02341722697019577,\n",
       "  0.06615479290485382,\n",
       "  0.06571215391159058,\n",
       "  0.0077232010662555695,\n",
       "  -0.04209895804524422,\n",
       "  -0.03619414195418358,\n",
       "  0.00958814937621355,\n",
       "  0.03503449633717537,\n",
       "  0.05541069805622101,\n",
       "  -0.035687778145074844,\n",
       "  -0.029208263382315636,\n",
       "  -0.010334654711186886,\n",
       "  0.02893088385462761,\n",
       "  0.07190711796283722,\n",
       "  0.01879301853477955,\n",
       "  0.0141064478084445,\n",
       "  0.042722802609205246,\n",
       "  0.03475482761859894,\n",
       "  0.0248548723757267,\n",
       "  0.029334066435694695,\n",
       "  -0.012373695150017738,\n",
       "  0.028532162308692932,\n",
       "  -0.021575337275862694,\n",
       "  0.05870611593127251,\n",
       "  -0.001102286740206182,\n",
       "  -0.03223457932472229,\n",
       "  -0.0021351852919906378,\n",
       "  -0.00966895092278719,\n",
       "  0.01199019979685545,\n",
       "  0.003768926952034235,\n",
       "  -0.04690329730510712,\n",
       "  -0.05989416688680649,\n",
       "  0.03261404484510422,\n",
       "  0.01885741390287876,\n",
       "  -0.02578013576567173,\n",
       "  0.031065380200743675,\n",
       "  -0.027463581413030624,\n",
       "  -0.07100101560354233,\n",
       "  -0.04475608840584755,\n",
       "  0.0031640962697565556,\n",
       "  0.048127181828022,\n",
       "  0.021528976038098335,\n",
       "  0.029470674693584442,\n",
       "  -0.05025957524776459,\n",
       "  0.003420639783143997,\n",
       "  0.08712177723646164,\n",
       "  0.04194974899291992,\n",
       "  0.016332847997546196,\n",
       "  0.029403390362858772,\n",
       "  0.016213564202189445,\n",
       "  0.017459576949477196,\n",
       "  0.04854331165552139,\n",
       "  -0.020164258778095245,\n",
       "  -0.0120421526953578,\n",
       "  -0.03742782026529312,\n",
       "  -0.06289096921682358,\n",
       "  0.01316024363040924,\n",
       "  -0.021482758224010468,\n",
       "  -0.07420427352190018,\n",
       "  0.018470393493771553,\n",
       "  0.007038500625640154,\n",
       "  0.026157889515161514,\n",
       "  0.021579407155513763,\n",
       "  0.0050229597836732864,\n",
       "  0.006169878412038088,\n",
       "  -0.027546729892492294,\n",
       "  -0.027729904279112816,\n",
       "  -0.030798165127635002,\n",
       "  0.007485562935471535,\n",
       "  0.004549889359623194,\n",
       "  -0.039347775280475616,\n",
       "  0.0038294398691505194,\n",
       "  -0.06682974100112915,\n",
       "  0.09483252465724945,\n",
       "  -0.01924334093928337,\n",
       "  -0.023634139448404312,\n",
       "  0.07320950925350189,\n",
       "  -0.004912542179226875,\n",
       "  -0.023647265508770943,\n",
       "  0.01951819844543934,\n",
       "  0.007546941749751568,\n",
       "  -0.033511459827423096,\n",
       "  -0.05831112712621689,\n",
       "  -0.05968226119875908,\n",
       "  -0.03950319066643715,\n",
       "  -0.0405622273683548,\n",
       "  0.03522654250264168,\n",
       "  0.0377747006714344,\n",
       "  -0.045613981783390045,\n",
       "  0.04491870850324631,\n",
       "  -0.038956232368946075,\n",
       "  0.10182150453329086,\n",
       "  0.07177224010229111,\n",
       "  0.012552566826343536,\n",
       "  0.04008054733276367,\n",
       "  0.0536213219165802,\n",
       "  -0.075053371489048,\n",
       "  0.012994375079870224,\n",
       "  -0.0010087239788845181,\n",
       "  -0.005305564031004906,\n",
       "  0.030814141035079956,\n",
       "  0.03366369009017944,\n",
       "  0.024434898048639297,\n",
       "  -0.03323006257414818,\n",
       "  0.01590251922607422,\n",
       "  0.03402571380138397,\n",
       "  0.008469928056001663,\n",
       "  -0.011134058237075806,\n",
       "  -0.009092562831938267,\n",
       "  -0.029051946476101875,\n",
       "  -0.07648546993732452,\n",
       "  -0.02128240093588829,\n",
       "  0.008889326825737953,\n",
       "  0.015132416971027851,\n",
       "  -0.062457066029310226,\n",
       "  0.017371846362948418,\n",
       "  -0.0021481714211404324,\n",
       "  -0.020554110407829285,\n",
       "  -0.012817022390663624,\n",
       "  -0.00031981279607862234,\n",
       "  0.047908902168273926,\n",
       "  0.06415455043315887,\n",
       "  0.06617992371320724,\n",
       "  0.014870883896946907,\n",
       "  0.04610128700733185,\n",
       "  -0.0613984614610672,\n",
       "  0.02736063301563263,\n",
       "  0.012589468620717525,\n",
       "  0.02846977859735489,\n",
       "  0.016525818035006523,\n",
       "  0.0041176192462444305,\n",
       "  -0.020742129534482956,\n",
       "  -0.030756069347262383,\n",
       "  0.008015619590878487,\n",
       "  -0.027454402297735214,\n",
       "  -0.07473703473806381,\n",
       "  -0.007011996582150459,\n",
       "  0.0048283785581588745,\n",
       "  -0.00510640162974596,\n",
       "  -0.044951971620321274,\n",
       "  0.02246180549263954,\n",
       "  0.024053111672401428,\n",
       "  -0.010425676591694355,\n",
       "  -0.02226267196238041,\n",
       "  0.014333764091134071,\n",
       "  0.01184280775487423,\n",
       "  0.060746338218450546,\n",
       "  -0.03950139135122299,\n",
       "  -0.033274874091148376,\n",
       "  -0.01606203429400921,\n",
       "  -0.059815287590026855,\n",
       "  -0.0634119063615799,\n",
       "  0.003946190234273672,\n",
       "  -0.0005174509133212268,\n",
       "  -0.023430613800883293,\n",
       "  0.07434482127428055,\n",
       "  -0.04057434946298599,\n",
       "  -0.03541523963212967,\n",
       "  0.03391392156481743,\n",
       "  -0.039292674511671066,\n",
       "  0.008583699353039265,\n",
       "  0.03309807926416397,\n",
       "  -0.04237356036901474,\n",
       "  -0.05760408937931061,\n",
       "  0.016048427671194077,\n",
       "  -0.035068947821855545,\n",
       "  -0.021058116108179092,\n",
       "  -0.07478770613670349,\n",
       "  0.0125099653378129,\n",
       "  -0.05710705742239952,\n",
       "  0.022934436798095703,\n",
       "  0.054029274731874466,\n",
       "  -0.03400886058807373,\n",
       "  0.012282070703804493,\n",
       "  0.022266020998358727,\n",
       "  -0.007455267012119293,\n",
       "  -0.0855378657579422,\n",
       "  -0.007204015739262104,\n",
       "  -0.005493653938174248,\n",
       "  0.022403689101338387,\n",
       "  0.0022279717959463596,\n",
       "  0.0028145266696810722,\n",
       "  -0.024900028482079506,\n",
       "  -0.010373354889452457,\n",
       "  -0.020914968103170395,\n",
       "  0.08217617869377136,\n",
       "  -0.02748686447739601,\n",
       "  0.008052503690123558,\n",
       "  0.017400966957211494,\n",
       "  -0.024946777150034904,\n",
       "  0.007722550071775913,\n",
       "  0.07959314435720444,\n",
       "  0.06379184871912003,\n",
       "  0.0227348729968071,\n",
       "  0.031099995598196983,\n",
       "  0.031071409583091736,\n",
       "  0.01519636157900095,\n",
       "  -0.029818231239914894,\n",
       "  0.001993472222238779,\n",
       "  -0.045867353677749634,\n",
       "  0.023346390575170517,\n",
       "  -0.019245365634560585,\n",
       "  0.04035249724984169,\n",
       "  0.05909937620162964,\n",
       "  0.030743567273020744,\n",
       "  -0.006159201264381409,\n",
       "  0.014493118040263653,\n",
       "  0.007810280192643404,\n",
       "  -0.013232828117907047,\n",
       "  0.012661132961511612,\n",
       "  0.02578967623412609,\n",
       "  0.00868233758956194,\n",
       "  0.02159050665795803,\n",
       "  0.0069030881859362125,\n",
       "  -0.06630521267652512,\n",
       "  -0.008881542831659317,\n",
       "  -0.02558833174407482,\n",
       "  0.005386633798480034,\n",
       "  0.022934742271900177,\n",
       "  0.041346702724695206,\n",
       "  -0.05415237322449684,\n",
       "  -0.04998185485601425,\n",
       "  0.05781600624322891,\n",
       "  -0.028492692857980728,\n",
       "  -0.006507243029773235,\n",
       "  -0.010496078990399837,\n",
       "  -0.009461557492613792,\n",
       "  0.013486235402524471,\n",
       "  0.02549363486468792,\n",
       "  0.018011577427387238,\n",
       "  0.02495179884135723,\n",
       "  0.09432819485664368,\n",
       "  -0.014309258200228214,\n",
       "  0.0067092315293848515,\n",
       "  -0.045197706669569016,\n",
       "  -0.03910393640398979,\n",
       "  0.02632688544690609,\n",
       "  0.013896078802645206,\n",
       "  0.01601744443178177,\n",
       "  -0.06603589653968811,\n",
       "  0.051227111369371414,\n",
       "  -0.058316346257925034,\n",
       "  0.015651613473892212,\n",
       "  0.007569220382720232,\n",
       "  0.022369030863046646,\n",
       "  -0.048196155577898026,\n",
       "  0.05187912657856941,\n",
       "  0.024503400549292564,\n",
       "  0.01962236873805523,\n",
       "  -0.02598484605550766,\n",
       "  -0.012698537670075893,\n",
       "  0.019723033532500267,\n",
       "  -0.008813510648906231,\n",
       "  0.08611223101615906,\n",
       "  -0.00647077988833189,\n",
       "  -0.050553515553474426,\n",
       "  -0.016321418806910515,\n",
       "  0.026258792728185654,\n",
       "  -0.030754124745726585,\n",
       "  0.009478094056248665,\n",
       "  -0.03041129745543003,\n",
       "  -0.017659543082118034,\n",
       "  0.03920615091919899,\n",
       "  -0.002969884080812335,\n",
       "  -0.046553440392017365,\n",
       "  -0.021891053766012192,\n",
       "  -0.010020372457802296,\n",
       "  0.032205402851104736,\n",
       "  0.0600714311003685,\n",
       "  0.02558908239006996,\n",
       "  -0.029451949521899223,\n",
       "  0.00012141640763729811,\n",
       "  -0.032788295298814774,\n",
       "  0.06972359120845795,\n",
       "  0.02255851961672306,\n",
       "  -0.031050076708197594,\n",
       "  0.0038913986645638943,\n",
       "  0.010921319015324116,\n",
       "  -0.06305621564388275,\n",
       "  0.032183028757572174,\n",
       "  -0.0676807090640068,\n",
       "  0.0039788843132555485,\n",
       "  -0.008171016350388527,\n",
       "  0.004536649212241173,\n",
       "  0.026422055438160896,\n",
       "  0.0211293026804924,\n",
       "  -0.03421556204557419,\n",
       "  0.006842188071459532,\n",
       "  -0.04225097596645355,\n",
       "  0.011921362951397896,\n",
       "  -0.04254598915576935,\n",
       "  0.015774579718708992,\n",
       "  -0.00576772540807724,\n",
       "  0.014758681878447533,\n",
       "  -0.002097534481436014,\n",
       "  0.013722927309572697,\n",
       "  -0.06963641196489334,\n",
       "  -0.002380658872425556,\n",
       "  0.02351791225373745,\n",
       "  0.009601753205060959,\n",
       "  -0.05378236994147301,\n",
       "  -2.884664581870311e-06,\n",
       "  -0.011883162893354893,\n",
       "  0.007324935402721167,\n",
       "  -0.02728385291993618,\n",
       "  0.02292022854089737,\n",
       "  0.00011045436258427799,\n",
       "  0.0019252762431278825,\n",
       "  -0.00914008729159832,\n",
       "  0.01709870994091034,\n",
       "  0.03304670378565788,\n",
       "  0.009971216320991516,\n",
       "  0.03166550397872925,\n",
       "  0.016954857856035233,\n",
       "  -0.04161811247467995,\n",
       "  -0.036016207188367844,\n",
       "  -0.010423573665320873,\n",
       "  0.001872823922894895,\n",
       "  -0.012537539005279541,\n",
       "  0.03639920800924301,\n",
       "  -0.03343726694583893,\n",
       "  0.03515336662530899,\n",
       "  0.03695782274007797,\n",
       "  -0.06700459122657776,\n",
       "  0.004526451230049133,\n",
       "  -0.004721622448414564,\n",
       "  0.044103674590587616,\n",
       "  0.022565288469195366,\n",
       "  0.008554062806069851,\n",
       "  0.05323460325598717,\n",
       "  0.08194764703512192,\n",
       "  -0.021178098395466805,\n",
       "  -0.030019639059901237,\n",
       "  -0.01851048693060875,\n",
       "  0.06653522700071335,\n",
       "  0.023169005289673805,\n",
       "  0.0012736872304230928,\n",
       "  0.04641373082995415,\n",
       "  -0.03679534047842026,\n",
       "  -0.03334435075521469,\n",
       "  -0.017888356000185013,\n",
       "  -0.027312489226460457,\n",
       "  -0.024499813094735146,\n",
       "  -0.053485218435525894,\n",
       "  -0.06328774243593216,\n",
       "  -0.024869730696082115,\n",
       "  0.00014536846720147878,\n",
       "  0.0358407087624073,\n",
       "  -0.00810887198895216,\n",
       "  -0.021907206624746323,\n",
       "  -0.020949959754943848,\n",
       "  0.01625722460448742,\n",
       "  -0.05844445154070854,\n",
       "  -0.07807750999927521,\n",
       "  0.04231122136116028,\n",
       "  0.013525290414690971,\n",
       "  0.007456767372786999,\n",
       "  -0.008649514988064766,\n",
       "  -0.034846484661102295,\n",
       "  0.0449516586959362,\n",
       "  -0.02354436367750168,\n",
       "  0.04585620015859604,\n",
       "  -0.049024954438209534,\n",
       "  0.01018883753567934,\n",
       "  0.04248886927962303,\n",
       "  0.06091737002134323,\n",
       "  0.005388003773987293,\n",
       "  0.0003766264417208731,\n",
       "  0.009041378274559975,\n",
       "  -0.042885761708021164,\n",
       "  -0.022456243634223938,\n",
       "  0.002181340241804719,\n",
       "  -0.010737488977611065,\n",
       "  -0.011795446276664734,\n",
       "  0.02775450423359871,\n",
       "  0.016170749440789223,\n",
       "  -0.04228534549474716,\n",
       "  -0.034411195665597916,\n",
       "  -0.0002554088132455945,\n",
       "  0.060670219361782074,\n",
       "  -0.017812443897128105,\n",
       "  0.02744727022945881,\n",
       "  0.02865842543542385,\n",
       "  0.09697898477315903,\n",
       "  -0.014942916110157967,\n",
       "  0.011604866944253445,\n",
       "  -0.07323165237903595,\n",
       "  -0.0067550428211688995,\n",
       "  0.02210571989417076,\n",
       "  0.03294575959444046,\n",
       "  0.022299395874142647,\n",
       "  0.005388360004872084,\n",
       "  0.04582595452666283,\n",
       "  0.01699807122349739,\n",
       "  0.024688197299838066,\n",
       "  0.00928143784403801,\n",
       "  0.03440263867378235,\n",
       "  -0.017133979126811028,\n",
       "  -0.0417131669819355,\n",
       "  0.013885685242712498,\n",
       "  0.006040880922228098,\n",
       "  -0.017118185758590698,\n",
       "  -0.039250005036592484,\n",
       "  0.00389146339148283,\n",
       "  0.029688337817788124,\n",
       "  0.015774914994835854,\n",
       "  -0.049471478909254074,\n",
       "  0.014758252538740635,\n",
       "  0.04155475273728371,\n",
       "  0.019186023622751236,\n",
       "  0.02964618243277073,\n",
       "  -0.03070170059800148,\n",
       "  0.0185787882655859,\n",
       "  -0.0357779785990715,\n",
       "  0.05005030333995819,\n",
       "  0.027544058859348297,\n",
       "  0.006203829776495695,\n",
       "  0.028984058648347855,\n",
       "  0.029880762100219727,\n",
       "  0.013980096206068993,\n",
       "  0.023439371958374977,\n",
       "  0.013157897628843784,\n",
       "  -0.008159437216818333,\n",
       "  -0.007254074327647686,\n",
       "  0.016199136152863503,\n",
       "  -0.0028300737030804157,\n",
       "  -0.05156176909804344,\n",
       "  0.037388090044260025,\n",
       "  -0.0515720397233963,\n",
       "  0.024182580411434174,\n",
       "  -0.006123335100710392,\n",
       "  0.02438591979444027,\n",
       "  -0.003105924464762211,\n",
       "  -0.02656872384250164,\n",
       "  0.004222170449793339,\n",
       "  -0.04650946334004402,\n",
       "  -0.05490265414118767,\n",
       "  -0.04290870577096939,\n",
       "  0.020931975916028023,\n",
       "  -0.07044318318367004,\n",
       "  -0.005971959792077541,\n",
       "  0.021529341116547585,\n",
       "  0.01873783767223358,\n",
       "  -0.041569747030735016,\n",
       "  0.04658923298120499,\n",
       "  -0.01825244538486004,\n",
       "  -0.05902708321809769,\n",
       "  -0.01311539113521576,\n",
       "  0.01062235701829195,\n",
       "  -0.05827222019433975,\n",
       "  0.03759694844484329,\n",
       "  0.10157706588506699,\n",
       "  0.00868180301040411,\n",
       "  -0.026900317519903183,\n",
       "  0.014947593212127686,\n",
       "  -0.023837100714445114,\n",
       "  0.03153771162033081,\n",
       "  0.0034989062696695328,\n",
       "  0.013693493790924549,\n",
       "  -0.01617426611483097,\n",
       "  -0.05662671849131584,\n",
       "  -0.010555215179920197,\n",
       "  -0.0002273071149829775,\n",
       "  -0.04343755170702934,\n",
       "  0.02067023701965809,\n",
       "  -0.020728331059217453,\n",
       "  -0.012393375858664513,\n",
       "  0.025043418630957603,\n",
       "  0.0056885587982833385,\n",
       "  0.011880471371114254,\n",
       "  -0.012096866965293884,\n",
       "  0.03022824600338936,\n",
       "  0.020671408623456955,\n",
       "  0.015978405252099037,\n",
       "  -0.015964336693286896,\n",
       "  0.0524192675948143,\n",
       "  -0.007749818731099367,\n",
       "  0.005350525490939617,\n",
       "  0.049213532358407974,\n",
       "  0.01924571953713894,\n",
       "  -0.022938882932066917,\n",
       "  -0.004561907146126032,\n",
       "  0.04512086138129234,\n",
       "  0.04830606281757355,\n",
       "  0.014319353736937046,\n",
       "  -0.01781824231147766,\n",
       "  0.025102384388446808,\n",
       "  0.05560919642448425,\n",
       "  -0.016458412632346153,\n",
       "  -0.022247271612286568,\n",
       "  -0.04104838892817497,\n",
       "  -0.009256700053811073,\n",
       "  -0.00902785174548626,\n",
       "  0.045184142887592316,\n",
       "  -0.04703744873404503,\n",
       "  -0.07162032276391983,\n",
       "  0.05264175683259964,\n",
       "  -0.02397763356566429,\n",
       "  0.053402986377477646,\n",
       "  -0.07361865788698196,\n",
       "  0.00840089563280344,\n",
       "  0.039961088448762894,\n",
       "  0.0014081650879234076,\n",
       "  -0.07272494584321976,\n",
       "  -0.03689713031053543,\n",
       "  0.06981834769248962,\n",
       "  -0.02732606790959835,\n",
       "  0.03451486676931381,\n",
       "  0.028562085703015327,\n",
       "  0.008150346577167511,\n",
       "  -0.04597486928105354,\n",
       "  -0.007510680705308914,\n",
       "  -0.08915816247463226,\n",
       "  -0.03271464630961418,\n",
       "  0.019442103803157806,\n",
       "  -0.025532638654112816,\n",
       "  0.08174354583024979,\n",
       "  -0.009520418010652065,\n",
       "  0.0080921845510602,\n",
       "  0.044655390083789825,\n",
       "  0.04857160151004791,\n",
       "  0.021239081397652626,\n",
       "  -0.033892448991537094,\n",
       "  -0.026272756978869438,\n",
       "  0.08767995983362198,\n",
       "  -0.013138252310454845,\n",
       "  -0.021939115598797798,\n",
       "  -0.06477940827608109,\n",
       "  0.004536761436611414,\n",
       "  -0.026262272149324417,\n",
       "  0.03340129554271698,\n",
       "  0.024247650057077408,\n",
       "  -0.03264961391687393,\n",
       "  0.04592671990394592,\n",
       "  0.03849725425243378,\n",
       "  -0.09683685004711151,\n",
       "  0.039503585547208786,\n",
       "  0.01785312220454216,\n",
       "  -0.012062898837029934,\n",
       "  0.02855299599468708,\n",
       "  -0.05404799431562424,\n",
       "  -0.002250177785754204,\n",
       "  0.013996174558997154,\n",
       "  -0.012307136319577694,\n",
       "  -0.03685188293457031,\n",
       "  -0.037869423627853394,\n",
       "  -0.027829045429825783,\n",
       "  0.007204510737210512,\n",
       "  -0.039005618542432785,\n",
       "  -0.05406513437628746,\n",
       "  -0.007296935189515352,\n",
       "  0.04562843590974808,\n",
       "  -0.023446738719940186,\n",
       "  0.023252274841070175,\n",
       "  -0.026803089305758476,\n",
       "  0.039782702922821045,\n",
       "  0.0183994360268116,\n",
       "  0.018008021637797356,\n",
       "  0.020810777321457863,\n",
       "  0.03975407034158707,\n",
       "  0.07437069714069366,\n",
       "  0.0003919116279575974,\n",
       "  -0.0016668728785589337,\n",
       "  -0.015830175951123238,\n",
       "  -0.020879972726106644,\n",
       "  -0.03532145544886589,\n",
       "  -0.022103898227214813,\n",
       "  0.012880035676062107,\n",
       "  -0.0028741685673594475]}"
      ]
     },
     "execution_count": 121,
     "metadata": {},
     "output_type": "execute_result"
    }
   ],
   "source": [
    "es_result[0]"
   ]
  },
  {
   "cell_type": "code",
   "execution_count": 119,
   "metadata": {},
   "outputs": [
    {
     "data": {
      "text/plain": [
       "{'question': 'Where can I sign up for the course?',\n",
       " 'course': 'machine-learning-zoomcamp',\n",
       " 'document': '0227b872'}"
      ]
     },
     "execution_count": 119,
     "metadata": {},
     "output_type": "execute_result"
    }
   ],
   "source": [
    "ground_truth[0]"
   ]
  },
  {
   "cell_type": "code",
   "execution_count": 143,
   "metadata": {
    "scrolled": true
   },
   "outputs": [
    {
     "name": "stderr",
     "output_type": "stream",
     "text": [
      "100%|██████████████████████████████████████████████████████████████████████████████████████████████████████████| 1830/1830 [00:17<00:00, 102.12it/s]\n"
     ]
    }
   ],
   "source": [
    "relevance_total_es = []\n",
    "\n",
    "for q in tqdm(ground_truth):\n",
    "    doc_id = q['document']\n",
    "    user_question = q['question']\n",
    "    es_result = elastic_search(\n",
    "        query=user_question,\n",
    "        course=\"machine-learning-zoomcamp\"\n",
    "    )\n",
    "    \n",
    "    relevance = [d[\"id\"] == doc_id for d in es_result]\n",
    "    relevance_total_es.append(relevance)"
   ]
  },
  {
   "cell_type": "code",
   "execution_count": 133,
   "metadata": {},
   "outputs": [
    {
     "data": {
      "text/plain": [
       "{'question': 'Where can I sign up for the course?',\n",
       " 'course': 'machine-learning-zoomcamp',\n",
       " 'document': '0227b872'}"
      ]
     },
     "execution_count": 133,
     "metadata": {},
     "output_type": "execute_result"
    }
   ],
   "source": [
    "ground_truth[0]"
   ]
  },
  {
   "cell_type": "code",
   "execution_count": 130,
   "metadata": {},
   "outputs": [],
   "source": [
    "query = {\n",
    "        \"field\": \"text_vector\",\n",
    "        \"query_vector\": ground_truth[0]['question'],\n",
    "        \"k\": 5,\n",
    "        \"num_candidates\": 10000, \n",
    "    }"
   ]
  },
  {
   "cell_type": "code",
   "execution_count": 131,
   "metadata": {},
   "outputs": [],
   "source": [
    "es_result = elastic_search(\n",
    "    query=user_question,\n",
    "    course=\"machine-learning-zoomcamp\"\n",
    ")"
   ]
  },
  {
   "cell_type": "code",
   "execution_count": 134,
   "metadata": {},
   "outputs": [
    {
     "name": "stdout",
     "output_type": "stream",
     "text": [
      "ee58a693\n",
      "0a278fb2\n",
      "c25b3de4\n",
      "9f261648\n",
      "41521c92\n"
     ]
    }
   ],
   "source": [
    "for r in es_result:\n",
    "    print(r['id'])"
   ]
  },
  {
   "cell_type": "code",
   "execution_count": 144,
   "metadata": {},
   "outputs": [
    {
     "data": {
      "text/plain": [
       "[[True, False, False, False, False],\n",
       " [True, False, False, False, False],\n",
       " [False, False, False, False, False],\n",
       " [False, True, False, False, False],\n",
       " [False, False, False, False, False],\n",
       " [False, True, False, False, False]]"
      ]
     },
     "execution_count": 144,
     "metadata": {},
     "output_type": "execute_result"
    }
   ],
   "source": [
    "relevance_total_es[:6]"
   ]
  },
  {
   "cell_type": "code",
   "execution_count": 145,
   "metadata": {},
   "outputs": [
    {
     "data": {
      "text/plain": [
       "0.7530054644808744"
      ]
     },
     "execution_count": 145,
     "metadata": {},
     "output_type": "execute_result"
    }
   ],
   "source": [
    "hit_rate(relevance_total_es)"
   ]
  },
  {
   "cell_type": "code",
   "execution_count": 88,
   "metadata": {},
   "outputs": [],
   "source": [
    "#### Step 6: Create end user query"
   ]
  },
  {
   "cell_type": "code",
   "execution_count": 17,
   "metadata": {},
   "outputs": [],
   "source": [
    "search_term = \"windows or mac?\"\n",
    "vector_search_term = model.encode(search_term)"
   ]
  },
  {
   "cell_type": "code",
   "execution_count": 18,
   "metadata": {},
   "outputs": [],
   "source": [
    "query = {\n",
    "    \"field\": \"text_vector\",\n",
    "    \"query_vector\": vector_search_term,\n",
    "    \"k\": 5,\n",
    "    \"num_candidates\": 10000, \n",
    "}"
   ]
  },
  {
   "cell_type": "code",
   "execution_count": null,
   "metadata": {},
   "outputs": [],
   "source": [
    "# class VectorSearchEngine():\n",
    "#     def __init__(self, documents, embeddings):\n",
    "#         self.documents = documents\n",
    "#         self.embeddings = embeddings\n",
    "\n",
    "#     def search(self, v_query, num_results=10):\n",
    "#         scores = self.embeddings.dot(v_query)\n",
    "#         idx = np.argsort(-scores)[:num_results]\n",
    "#         return [self.documents[i] for i in idx]\n",
    "\n",
    "# search_engine = VectorSearchEngine(documents=filtered_docs, embeddings=X)\n",
    "# search_engine.search(v, num_results=5)\n",
    "\n",
    "class VectorSearchEngineUsingES():\n",
    "    def __init__(self, documents, embeddings):\n",
    "        self.documents = documents\n",
    "        self.embeddings = embeddings\n",
    "\n",
    "    def search(self, v_query, num_results=10):\n",
    "        scores = self.embeddings.dot(v_query)\n",
    "        idx = np.argsort(-scores)[:num_results]\n",
    "        return [self.documents[i] for i in idx]\n",
    "\n",
    "search_engine = VectorSearchEngine(documents=filtered_docs, embeddings=X)\n",
    "search_engine.search(v, num_results=5)\n"
   ]
  },
  {
   "cell_type": "code",
   "execution_count": 19,
   "metadata": {},
   "outputs": [
    {
     "data": {
      "text/plain": [
       "[{'_index': 'course-questions',\n",
       "  '_id': '-BY3YZABY4SUV-QiWtCV',\n",
       "  '_score': 0.7147919,\n",
       "  '_source': {'question': 'Environment - Is the course [Windows/mac/Linux/...] friendly?',\n",
       "   'course': 'data-engineering-zoomcamp',\n",
       "   'section': 'General course-related questions',\n",
       "   'text': 'Yes! Linux is ideal but technically it should not matter. Students last year used all 3 OSes successfully'}},\n",
       " {'_index': 'course-questions',\n",
       "  '_id': 'CxY4YZABY4SUV-QiNdSb',\n",
       "  '_score': 0.6134734,\n",
       "  '_source': {'question': 'WSL instructions',\n",
       "   'course': 'mlops-zoomcamp',\n",
       "   'section': 'Module 1: Introduction',\n",
       "   'text': 'If you wish to use WSL on your windows machine, here are the setup instructions:\\nCommand: Sudo apt install wget\\nGet Anaconda download address here. wget <download address>\\nTurn on Docker Desktop WFree Download | AnacondaSL2\\nCommand: git clone <github repository address>\\nVSCODE on WSL\\nJupyter: pip3 install jupyter\\nAdded by Gregory Morris (gwm1980@gmail.com)\\nAll in all softwares at one shop:\\nYou can use anaconda which has all built in services like pycharm, jupyter\\nAdded by Khaja Zaffer (khajazaffer@aln.iseg.ulisboa.pt)\\nFor windows “wsl --install” in Powershell\\nAdded by Vadim Surin (vdmsurin@gmai.com)'}},\n",
       " {'_index': 'course-questions',\n",
       "  '_id': 'zBY3YZABY4SUV-Qi3dIs',\n",
       "  '_score': 0.60555583,\n",
       "  '_source': {'question': \"The answer I get for one of the homework questions doesn't match any of the options. What should I do?\",\n",
       "   'course': 'machine-learning-zoomcamp',\n",
       "   'section': '2. Machine Learning for Regression',\n",
       "   'text': 'That’s normal. We all have different environments: our computers have different versions of OS and different versions of libraries — even different versions of Python.\\nIf it’s the case, just select the option that’s closest to your answer'}},\n",
       " {'_index': 'course-questions',\n",
       "  '_id': 'JRY3YZABY4SUV-Qi9dPn',\n",
       "  '_score': 0.60289603,\n",
       "  '_source': {'question': 'How to install WSL on Windows 10 and 11 ?',\n",
       "   'course': 'machine-learning-zoomcamp',\n",
       "   'section': '5. Deploying Machine Learning Models',\n",
       "   'text': 'It is quite simple, and you can follow these instructions here:\\nhttps://www.youtube.com/watch?v=qYlgUDKKK5A&ab_channel=NeuralNine\\nMake sure that you have “Virtual Machine Platform” feature activated in your Windows “Features”. To do that, search “features” in the research bar and see if the checkbox is selected. You also need to make sure that your system (in the bios) is able to virtualize. This is usually the case.\\nIn the Microsoft Store: look for ‘Ubuntu’ or ‘Debian’ (or any linux distribution you want) and install it\\nOnce it is downloaded, open the app and choose a username and a password (secured one). When you type your password, nothing will show in the window, which is normal: the writing is invisible.\\nYou are now inside of your linux system. You can test some commands such as “pwd”. You are not in your Windows system.\\nTo go to your windows system: you need to go back two times with cd ../.. And then go to the “mnt” directory with cd mnt. If you list here your files, you will see your disks. You can move to the desired folder, for example here I moved to the ML_Zoomcamp folder:\\nPython should be already installed but you can check it by running sudo apt install python3 command.\\nYou can make your actual folder your default folder when you open your Ubuntu terminal with this command : echo \"cd ../../mnt/your/folder/path\" >> ~/.bashrc\\nYou can disable bell sounds (when you type something that does not exist for example) by modifying the inputrc file with this command: sudo vim /etc/inputrc\\nYou have to uncomment the set bell-style none line -> to do that, press the “i” keyboard letter (for insert) and go with your keyboard to this line. Delete the # and then press the Escape keyboard touch and finally press “:wq” to write (it saves your modifications) then quit.\\nYou can check that your modifications are taken into account by opening a new terminal (you can pin it to your task bar so you do not have to go to the Microsoft app each time).\\nYou will need to install pip by running this command sudo apt install python3-pip\\nNB: I had this error message when trying to install pipenv (https://github.com/microsoft/WSL/issues/5663):\\n/sbin/ldconfig.real: Can\\'t link /usr/lib/wsl/lib/libnvoptix_loader.so.1 to libnvoptix.so.1\\n/sbin/ldconfig.real: /usr/lib/wsl/lib/libcuda.so.1 is not a symbolic link\\nSo I had to create the following symbolic link:\\nsudo ln -s /usr/lib/wsl/lib/libcuda.so.1 /usr/lib64/libcuda.so\\n(Mélanie Fouesnard)'}},\n",
       " {'_index': 'course-questions',\n",
       "  '_id': '6RY3YZABY4SUV-QiVtBc',\n",
       "  '_score': 0.5985867,\n",
       "  '_source': {'question': 'Environment - Should I use my local machine, GCP, or GitHub Codespaces for my environment?',\n",
       "   'course': 'data-engineering-zoomcamp',\n",
       "   'section': 'General course-related questions',\n",
       "   'text': 'You can set it up on your laptop or PC if you prefer to work locally from your laptop or PC.\\nYou might face some challenges, especially for Windows users. If you face cnd2\\nIf you prefer to work on the local machine, you may start with the week 1 Introduction to Docker and follow through.\\nHowever, if you prefer to set up a virtual machine, you may start with these first:\\nUsing GitHub Codespaces\\nSetting up the environment on a cloudV Mcodespace\\nI decided to work on a virtual machine because I have different laptops & PCs for my home & office, so I can work on this boot camp virtually anywhere.'}}]"
      ]
     },
     "execution_count": 19,
     "metadata": {},
     "output_type": "execute_result"
    }
   ],
   "source": [
    "res = es_client.search(index=index_name, knn=query, source=[\"text\", \"section\", \"question\", \"course\"])\n",
    "results = res[\"hits\"][\"hits\"]"
   ]
  },
  {
   "cell_type": "markdown",
   "metadata": {},
   "source": [
    "#### Step 7: Perform Keyword search with Semantic Search (Hybrid/Advanced Search)"
   ]
  },
  {
   "cell_type": "code",
   "execution_count": null,
   "metadata": {},
   "outputs": [],
   "source": [
    "# Note: I made a minor modification to the query shown in the notebook here\n",
    "# (compare to the one shown in the video)\n",
    "# Included \"knn\" in the search query (to perform a semantic search) along with the filter  \n",
    "knn_query = {\n",
    "    \"field\": \"text_vector\",\n",
    "    \"query_vector\": vector_search_term,\n",
    "    \"k\": 5,\n",
    "    \"num_candidates\": 10000\n",
    "}"
   ]
  },
  {
   "cell_type": "code",
   "execution_count": null,
   "metadata": {},
   "outputs": [],
   "source": [
    "response = es_client.search(\n",
    "    index=index_name,\n",
    "    query={\n",
    "        \"match\": {\"section\": \"General course-related questions\"},\n",
    "    },\n",
    "    knn=knn_query,\n",
    "    size=5\n",
    ")"
   ]
  },
  {
   "cell_type": "code",
   "execution_count": null,
   "metadata": {},
   "outputs": [],
   "source": [
    "response[\"hits\"][\"hits\"]"
   ]
  },
  {
   "cell_type": "markdown",
   "metadata": {},
   "source": [
    "#### References"
   ]
  },
  {
   "cell_type": "markdown",
   "metadata": {},
   "source": [
    "1. https://logz.io/blog/elasticsearch-mapping/#:~:text=Within%20a%20search%20engine%2C%20mapping,indexes%20and%20stores%20its%20fields\n",
    "\n",
    "2. https://www.sbert.net/docs/sentence_transformer/pretrained_models.html\n",
    "\n",
    "3. https://www.elastic.co/search-labs/tutorials\n",
    "\n",
    "4. https://www.elastic.co/search-labs/blog/text-similarity-search-with-vectors-in-elasticsearch"
   ]
  }
 ],
 "metadata": {
  "kernelspec": {
   "display_name": "venv_llmzc",
   "language": "python",
   "name": "venv_llmzc"
  },
  "language_info": {
   "codemirror_mode": {
    "name": "ipython",
    "version": 3
   },
   "file_extension": ".py",
   "mimetype": "text/x-python",
   "name": "python",
   "nbconvert_exporter": "python",
   "pygments_lexer": "ipython3",
   "version": "3.12.3"
  }
 },
 "nbformat": 4,
 "nbformat_minor": 4
}
